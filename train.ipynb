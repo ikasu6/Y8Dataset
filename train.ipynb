{
 "cells": [
  {
   "cell_type": "code",
   "execution_count": 3,
   "id": "1a71d97e-8007-4e70-8df6-8e214c7e4180",
   "metadata": {
    "tags": []
   },
   "outputs": [],
   "source": [
    "!pip install ultralytics\n",
    "from IPython.display import clear_output\n",
    "clear_output()"
   ]
  },
  {
   "cell_type": "code",
   "execution_count": 8,
   "id": "94f97a51-ee77-4e5b-b5e9-660a9a69b9f7",
   "metadata": {
    "tags": []
   },
   "outputs": [],
   "source": [
    "import os\n",
    "from ultralytics import YOLO"
   ]
  },
  {
   "cell_type": "code",
   "execution_count": 9,
   "id": "b0e76959-6c56-4471-aa11-7864f7a3f61a",
   "metadata": {
    "tags": []
   },
   "outputs": [
    {
     "data": {
      "text/plain": [
       "'/home/ec2-user/SageMaker'"
      ]
     },
     "execution_count": 9,
     "metadata": {},
     "output_type": "execute_result"
    }
   ],
   "source": [
    "cwd = os.getcwd()\n",
    "cwd"
   ]
  },
  {
   "cell_type": "code",
   "execution_count": 10,
   "id": "aa2e90d2-1fd2-4b29-abf9-95ebe3839a7f",
   "metadata": {
    "tags": []
   },
   "outputs": [],
   "source": [
    "# os.listdir('/home/ec2-user/SageMaker/dataset/images/test')"
   ]
  },
  {
   "cell_type": "code",
   "execution_count": 11,
   "id": "9aec6d2e",
   "metadata": {
    "tags": []
   },
   "outputs": [
    {
     "name": "stderr",
     "output_type": "stream",
     "text": [
      "New https://pypi.org/project/ultralytics/8.0.146 available 😃 Update with 'pip install -U ultralytics'\n",
      "Ultralytics YOLOv8.0.145 🚀 Python-3.10.10 torch-2.0.0 CUDA:0 (Tesla T4, 15102MiB)\n",
      "\u001b[34m\u001b[1mengine/trainer: \u001b[0mtask=pose, mode=train, model=yolov8x-pose.pt, data=/home/ec2-user/SageMaker/config.yaml, epochs=1, patience=15, batch=-1, imgsz=640, save=True, save_period=-1, cache=False, device=None, workers=8, project=None, name=None, exist_ok=False, pretrained=True, optimizer=auto, verbose=True, seed=0, deterministic=True, single_cls=False, rect=False, cos_lr=False, close_mosaic=10, resume=False, amp=True, fraction=1.0, profile=False, overlap_mask=True, mask_ratio=4, dropout=0.0, val=True, split=val, save_json=False, save_hybrid=False, conf=None, iou=0.7, max_det=300, half=False, dnn=False, plots=True, source=None, show=False, save_txt=False, save_conf=False, save_crop=False, show_labels=True, show_conf=True, vid_stride=1, line_width=None, visualize=False, augment=False, agnostic_nms=False, classes=None, retina_masks=False, boxes=True, format=torchscript, keras=False, optimize=False, int8=False, dynamic=False, simplify=False, opset=None, workspace=4, nms=False, lr0=0.01, lrf=0.01, momentum=0.937, weight_decay=0.0005, warmup_epochs=3.0, warmup_momentum=0.8, warmup_bias_lr=0.1, box=7.5, cls=0.5, dfl=1.5, pose=12.0, kobj=1.0, label_smoothing=0.0, nbs=64, hsv_h=0.015, hsv_s=0.7, hsv_v=0.4, degrees=0, translate=0.1, scale=0.5, shear=0.0, perspective=0.0, flipud=0.0, fliplr=0.0, mosaic=1.0, mixup=0.0, copy_paste=0.0, cfg=None, tracker=botsort.yaml, save_dir=runs/pose/train22\n",
      "Overriding model.yaml kpt_shape=[17, 3] with kpt_shape=[20, 3]\n",
      "Overriding model.yaml nc=1 with nc=5\n",
      "\n",
      "                   from  n    params  module                                       arguments                     \n",
      "  0                  -1  1      2320  ultralytics.nn.modules.conv.Conv             [3, 80, 3, 2]                 \n",
      "  1                  -1  1    115520  ultralytics.nn.modules.conv.Conv             [80, 160, 3, 2]               \n",
      "  2                  -1  3    436800  ultralytics.nn.modules.block.C2f             [160, 160, 3, True]           \n",
      "  3                  -1  1    461440  ultralytics.nn.modules.conv.Conv             [160, 320, 3, 2]              \n",
      "  4                  -1  6   3281920  ultralytics.nn.modules.block.C2f             [320, 320, 6, True]           \n",
      "  5                  -1  1   1844480  ultralytics.nn.modules.conv.Conv             [320, 640, 3, 2]              \n",
      "  6                  -1  6  13117440  ultralytics.nn.modules.block.C2f             [640, 640, 6, True]           \n",
      "  7                  -1  1   3687680  ultralytics.nn.modules.conv.Conv             [640, 640, 3, 2]              \n",
      "  8                  -1  3   6969600  ultralytics.nn.modules.block.C2f             [640, 640, 3, True]           \n",
      "  9                  -1  1   1025920  ultralytics.nn.modules.block.SPPF            [640, 640, 5]                 \n",
      " 10                  -1  1         0  torch.nn.modules.upsampling.Upsample         [None, 2, 'nearest']          \n",
      " 11             [-1, 6]  1         0  ultralytics.nn.modules.conv.Concat           [1]                           \n",
      " 12                  -1  3   7379200  ultralytics.nn.modules.block.C2f             [1280, 640, 3]                \n",
      " 13                  -1  1         0  torch.nn.modules.upsampling.Upsample         [None, 2, 'nearest']          \n",
      " 14             [-1, 4]  1         0  ultralytics.nn.modules.conv.Concat           [1]                           \n",
      " 15                  -1  3   1948800  ultralytics.nn.modules.block.C2f             [960, 320, 3]                 \n",
      " 16                  -1  1    922240  ultralytics.nn.modules.conv.Conv             [320, 320, 3, 2]              \n",
      " 17            [-1, 12]  1         0  ultralytics.nn.modules.conv.Concat           [1]                           \n",
      " 18                  -1  3   7174400  ultralytics.nn.modules.block.C2f             [960, 640, 3]                 \n",
      " 19                  -1  1   3687680  ultralytics.nn.modules.conv.Conv             [640, 640, 3, 2]              \n",
      " 20             [-1, 9]  1         0  ultralytics.nn.modules.conv.Concat           [1]                           \n",
      " 21                  -1  3   7379200  ultralytics.nn.modules.block.C2f             [1280, 640, 3]                \n",
      " 22        [15, 18, 21]  1  10063123  ultralytics.nn.modules.head.Pose             [5, [20, 3], [320, 640, 640]] \n",
      "YOLOv8x-pose summary: 390 layers, 69497763 parameters, 69497747 gradients\n",
      "\n",
      "Transferred 625/637 items from pretrained weights\n",
      "\u001b[34m\u001b[1mAMP: \u001b[0mrunning Automatic Mixed Precision (AMP) checks with YOLOv8n...\n",
      "\u001b[34m\u001b[1mAMP: \u001b[0mchecks passed ✅\n",
      "\u001b[34m\u001b[1mAutoBatch: \u001b[0mComputing optimal batch size for imgsz=640\n",
      "\u001b[34m\u001b[1mAutoBatch: \u001b[0mCUDA:0 (Tesla T4) 14.75G total, 2.38G reserved, 2.31G allocated, 10.06G free\n",
      "      Params      GFLOPs  GPU_mem (GB)  forward (ms) backward (ms)                   input                  output\n",
      "    69497763           0         4.045         34.95           nan        (1, 3, 640, 640)                    list\n",
      "    69497763           0         5.444         57.63           nan        (2, 3, 640, 640)                    list\n",
      "    69497763           0         8.007         86.99           nan        (4, 3, 640, 640)                    list\n",
      "    69497763           0        13.445         179.3           nan        (8, 3, 640, 640)                    list\n",
      "CUDA out of memory. Tried to allocate 126.00 MiB (GPU 0; 14.75 GiB total capacity; 13.27 GiB already allocated; 4.81 MiB free; 13.66 GiB reserved in total by PyTorch) If reserved memory is >> allocated memory try setting max_split_size_mb to avoid fragmentation.  See documentation for Memory Management and PYTORCH_CUDA_ALLOC_CONF\n",
      "\u001b[34m\u001b[1mAutoBatch: \u001b[0mUsing batch-size 3 for CUDA:0 11.42G/14.75G (77%) ✅\n",
      "\u001b[34m\u001b[1mtrain: \u001b[0mScanning /home/ec2-user/SageMaker/dataset5/labels/train.cache... 74 images, 0 backgrounds, 1 corrupt: 100%|██████████| 74/74 [00:00<?, ?it/s]\n",
      "\u001b[34m\u001b[1mtrain: \u001b[0mWARNING ⚠️ /home/ec2-user/SageMaker/dataset5/images/train/f8eb47944d5e7d6f4a7851f9c430bf452a6aa27c441720225ab32c07e70ad1a7.jpg: ignoring corrupt image/label: setting an array element with a sequence. The requested array has an inhomogeneous shape after 1 dimensions. The detected shape was (7,) + inhomogeneous part.\n",
      "\u001b[34m\u001b[1mval: \u001b[0mScanning /home/ec2-user/SageMaker/dataset5/labels/val.cache... 12 images, 0 backgrounds, 0 corrupt: 100%|██████████| 12/12 [00:00<?, ?it/s]\n",
      "Plotting labels to runs/pose/train22/labels.jpg... \n",
      "\u001b[34m\u001b[1moptimizer:\u001b[0m AdamW(lr=0.001111, momentum=0.9) with parameter groups 103 weight(decay=0.0), 113 weight(decay=0.0004921875), 112 bias(decay=0.0)\n",
      "Image sizes 640 train, 640 val\n",
      "Using 3 dataloader workers\n",
      "Logging results to \u001b[1mruns/pose/train22\u001b[0m\n",
      "Starting training for 1 epochs...\n",
      "\n",
      "      Epoch    GPU_mem   box_loss  pose_loss  kobj_loss   cls_loss   dfl_loss  Instances       Size\n",
      "        1/1      9.12G      2.737      11.41     0.7592      3.627       2.09          7        640: 100%|██████████| 25/25 [00:06<00:00,  3.59it/s]\n",
      "                 Class     Images  Instances      Box(P          R      mAP50  mAP50-95)     Pose(P          R      mAP50  mAP50-95): 100%|██████████| 2/2 [00:01<00:00,  1.62it/s]\n",
      "                   all         12         84      0.649       0.78      0.782      0.517    0.00224     0.0167   0.000886   0.000886\n",
      "\n",
      "1 epochs completed in 0.007 hours.\n",
      "Optimizer stripped from runs/pose/train22/weights/last.pt, 139.4MB\n",
      "Optimizer stripped from runs/pose/train22/weights/best.pt, 139.4MB\n",
      "\n",
      "Validating runs/pose/train22/weights/best.pt...\n",
      "Ultralytics YOLOv8.0.145 🚀 Python-3.10.10 torch-2.0.0 CUDA:0 (Tesla T4, 15102MiB)\n",
      "YOLOv8x-pose summary (fused): 287 layers, 69468243 parameters, 0 gradients\n",
      "                 Class     Images  Instances      Box(P          R      mAP50  mAP50-95)     Pose(P          R      mAP50  mAP50-95): 100%|██████████| 2/2 [00:00<00:00,  2.02it/s]\n",
      "                   all         12         84      0.649       0.78      0.782      0.517    0.00221     0.0167   0.000879   0.000879\n",
      "            fuse_block         12         24          1      0.986      0.995      0.727          0          0          0          0\n",
      "         bar_connector         12         24          1     0.0785      0.603      0.363          0          0          0          0\n",
      "         negative_feed         12         12      0.485          1       0.59      0.388     0.0111     0.0833     0.0044     0.0044\n",
      "         positive_feed         12         12      0.669      0.833      0.906      0.524          0          0          0          0\n",
      "     disconnect_switch         12         12      0.093          1      0.817      0.581          0          0          0          0\n",
      "Speed: 0.9ms preprocess, 17.8ms inference, 0.0ms loss, 3.9ms postprocess per image\n",
      "Results saved to \u001b[1mruns/pose/train22\u001b[0m\n"
     ]
    }
   ],
   "source": [
    "model = YOLO('yolov8x-pose.pt')#YOLOv8n-pose\n",
    "model.train(data='/home/ec2-user/SageMaker/config.yaml', epochs=1,patience = 15,  batch= -1, lrf = 0.01, degrees = 0,fliplr=0.0)"
   ]
  },
  {
   "cell_type": "code",
   "execution_count": null,
   "id": "83426e9d",
   "metadata": {},
   "outputs": [],
   "source": [
    "source = '/home/ec2-user/SageMaker/dataset5/'\n",
    "\n",
    "# Run inference on the source\n",
    "results = model(source,save=True)  # list of Results objects"
   ]
  },
  {
   "cell_type": "code",
   "execution_count": 2,
   "id": "4c3032ba",
   "metadata": {
    "tags": []
   },
   "outputs": [],
   "source": [
    "result=results[0]\n",
    "keypoints = results[0].keypoints  # Masks object\n",
    "# keypoints.shape # x, y keypoints (pixels), (num_dets, num_kpts, 2/3), the last dimension can be 2 or 3, depends the model."
   ]
  },
  {
   "cell_type": "code",
   "execution_count": 29,
   "id": "868939ba-f9d9-4e3c-9a8f-1388c6d5d30b",
   "metadata": {
    "tags": []
   },
   "outputs": [],
   "source": [
    "for result in pred:\n",
    "    boxes = result.boxes  # Boxes object for bbox outputs\n",
    "    keypoints = result.keypoints  # Masks object for segmentation masks outputs\n",
    "    keys = result.keys  # Keypoints object for pose outputs"
   ]
  },
  {
   "cell_type": "code",
   "execution_count": null,
   "id": "1d918748-33a9-41ce-b6cc-2877d41c6573",
   "metadata": {},
   "outputs": [],
   "source": [
    "model.predict(data='/home/ec2-user/SageMaker/config.yaml', epochs=100,patience = 20,  batch= -1, lrf = 0.01, degrees = 45,fliplr=0.0)"
   ]
  },
  {
   "cell_type": "code",
   "execution_count": null,
   "id": "7fcc4996",
   "metadata": {},
   "outputs": [],
   "source": [
    "!python detect.py --weights runs/pose/train17/exp/weights/best.pt --img 416 --conf 0.1 **--source {dataset. Location}/test/images**"
   ]
  }
 ],
 "metadata": {
  "kernelspec": {
   "display_name": "Python 3 (ipykernel)",
   "language": "python",
   "name": "python3"
  },
  "language_info": {
   "codemirror_mode": {
    "name": "ipython",
    "version": 3
   },
   "file_extension": ".py",
   "mimetype": "text/x-python",
   "name": "python",
   "nbconvert_exporter": "python",
   "pygments_lexer": "ipython3",
   "version": "3.12.4"
  }
 },
 "nbformat": 4,
 "nbformat_minor": 5
}
