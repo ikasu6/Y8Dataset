{
 "cells": [
  {
   "cell_type": "markdown",
   "id": "7a0f6561-87f6-45f9-8bf4-7b18849e53ae",
   "metadata": {},
   "source": [
    "### To calculate the mAP first ineed to get the  OKS for each keypoint with its corresponding prediction"
   ]
  },
  {
   "cell_type": "markdown",
   "id": "02d80455-ac41-4887-9de2-79dc002626a5",
   "metadata": {},
   "source": [
    "#### imports and installs"
   ]
  },
  {
   "cell_type": "code",
   "execution_count": 1,
   "id": "674a0538",
   "metadata": {
    "scrolled": true,
    "tags": []
   },
   "outputs": [
    {
     "name": "stdout",
     "output_type": "stream",
     "text": [
      "Collecting ultralytics\n",
      "  Obtaining dependency information for ultralytics from https://files.pythonhosted.org/packages/f8/3e/021fe648b56598e3e5267caf418dc593d70e4ea44922c60e9b9775474da6/ultralytics-8.0.167-py3-none-any.whl.metadata\n",
      "  Downloading ultralytics-8.0.167-py3-none-any.whl.metadata (28 kB)\n",
      "Requirement already satisfied: matplotlib>=3.2.2 in /home/ec2-user/anaconda3/envs/pytorch_p310/lib/python3.10/site-packages (from ultralytics) (3.7.2)\n",
      "Requirement already satisfied: numpy>=1.22.2 in /home/ec2-user/anaconda3/envs/pytorch_p310/lib/python3.10/site-packages (from ultralytics) (1.24.4)\n",
      "Requirement already satisfied: opencv-python>=4.6.0 in /home/ec2-user/anaconda3/envs/pytorch_p310/lib/python3.10/site-packages (from ultralytics) (4.6.0.66)\n",
      "Requirement already satisfied: pillow>=7.1.2 in /home/ec2-user/anaconda3/envs/pytorch_p310/lib/python3.10/site-packages (from ultralytics) (10.0.0)\n",
      "Requirement already satisfied: pyyaml>=5.3.1 in /home/ec2-user/anaconda3/envs/pytorch_p310/lib/python3.10/site-packages (from ultralytics) (6.0)\n",
      "Requirement already satisfied: requests>=2.23.0 in /home/ec2-user/anaconda3/envs/pytorch_p310/lib/python3.10/site-packages (from ultralytics) (2.31.0)\n",
      "Requirement already satisfied: scipy>=1.4.1 in /home/ec2-user/anaconda3/envs/pytorch_p310/lib/python3.10/site-packages (from ultralytics) (1.11.1)\n",
      "Requirement already satisfied: torch>=1.8.0 in /home/ec2-user/anaconda3/envs/pytorch_p310/lib/python3.10/site-packages (from ultralytics) (2.0.1)\n",
      "Requirement already satisfied: torchvision>=0.9.0 in /home/ec2-user/anaconda3/envs/pytorch_p310/lib/python3.10/site-packages (from ultralytics) (0.15.2)\n",
      "Requirement already satisfied: tqdm>=4.64.0 in /home/ec2-user/anaconda3/envs/pytorch_p310/lib/python3.10/site-packages (from ultralytics) (4.65.0)\n",
      "Requirement already satisfied: pandas>=1.1.4 in /home/ec2-user/anaconda3/envs/pytorch_p310/lib/python3.10/site-packages (from ultralytics) (1.5.3)\n",
      "Requirement already satisfied: seaborn>=0.11.0 in /home/ec2-user/anaconda3/envs/pytorch_p310/lib/python3.10/site-packages (from ultralytics) (0.12.2)\n",
      "Requirement already satisfied: psutil in /home/ec2-user/anaconda3/envs/pytorch_p310/lib/python3.10/site-packages (from ultralytics) (5.9.5)\n",
      "Collecting py-cpuinfo (from ultralytics)\n",
      "  Downloading py_cpuinfo-9.0.0-py3-none-any.whl (22 kB)\n",
      "Requirement already satisfied: contourpy>=1.0.1 in /home/ec2-user/anaconda3/envs/pytorch_p310/lib/python3.10/site-packages (from matplotlib>=3.2.2->ultralytics) (1.1.0)\n",
      "Requirement already satisfied: cycler>=0.10 in /home/ec2-user/anaconda3/envs/pytorch_p310/lib/python3.10/site-packages (from matplotlib>=3.2.2->ultralytics) (0.11.0)\n",
      "Requirement already satisfied: fonttools>=4.22.0 in /home/ec2-user/anaconda3/envs/pytorch_p310/lib/python3.10/site-packages (from matplotlib>=3.2.2->ultralytics) (4.41.0)\n",
      "Requirement already satisfied: kiwisolver>=1.0.1 in /home/ec2-user/anaconda3/envs/pytorch_p310/lib/python3.10/site-packages (from matplotlib>=3.2.2->ultralytics) (1.4.4)\n",
      "Requirement already satisfied: packaging>=20.0 in /home/ec2-user/anaconda3/envs/pytorch_p310/lib/python3.10/site-packages (from matplotlib>=3.2.2->ultralytics) (21.3)\n",
      "Requirement already satisfied: pyparsing<3.1,>=2.3.1 in /home/ec2-user/anaconda3/envs/pytorch_p310/lib/python3.10/site-packages (from matplotlib>=3.2.2->ultralytics) (3.0.9)\n",
      "Requirement already satisfied: python-dateutil>=2.7 in /home/ec2-user/anaconda3/envs/pytorch_p310/lib/python3.10/site-packages (from matplotlib>=3.2.2->ultralytics) (2.8.2)\n",
      "Requirement already satisfied: pytz>=2020.1 in /home/ec2-user/anaconda3/envs/pytorch_p310/lib/python3.10/site-packages (from pandas>=1.1.4->ultralytics) (2023.3)\n",
      "Requirement already satisfied: charset-normalizer<4,>=2 in /home/ec2-user/anaconda3/envs/pytorch_p310/lib/python3.10/site-packages (from requests>=2.23.0->ultralytics) (3.2.0)\n",
      "Requirement already satisfied: idna<4,>=2.5 in /home/ec2-user/anaconda3/envs/pytorch_p310/lib/python3.10/site-packages (from requests>=2.23.0->ultralytics) (3.4)\n",
      "Requirement already satisfied: urllib3<3,>=1.21.1 in /home/ec2-user/anaconda3/envs/pytorch_p310/lib/python3.10/site-packages (from requests>=2.23.0->ultralytics) (1.26.14)\n",
      "Requirement already satisfied: certifi>=2017.4.17 in /home/ec2-user/anaconda3/envs/pytorch_p310/lib/python3.10/site-packages (from requests>=2.23.0->ultralytics) (2023.5.7)\n",
      "Requirement already satisfied: filelock in /home/ec2-user/anaconda3/envs/pytorch_p310/lib/python3.10/site-packages (from torch>=1.8.0->ultralytics) (3.12.2)\n",
      "Requirement already satisfied: typing-extensions in /home/ec2-user/anaconda3/envs/pytorch_p310/lib/python3.10/site-packages (from torch>=1.8.0->ultralytics) (4.7.1)\n",
      "Requirement already satisfied: sympy in /home/ec2-user/anaconda3/envs/pytorch_p310/lib/python3.10/site-packages (from torch>=1.8.0->ultralytics) (1.12)\n",
      "Requirement already satisfied: networkx in /home/ec2-user/anaconda3/envs/pytorch_p310/lib/python3.10/site-packages (from torch>=1.8.0->ultralytics) (3.1)\n",
      "Requirement already satisfied: jinja2 in /home/ec2-user/anaconda3/envs/pytorch_p310/lib/python3.10/site-packages (from torch>=1.8.0->ultralytics) (3.1.2)\n",
      "Requirement already satisfied: six>=1.5 in /home/ec2-user/anaconda3/envs/pytorch_p310/lib/python3.10/site-packages (from python-dateutil>=2.7->matplotlib>=3.2.2->ultralytics) (1.16.0)\n",
      "Requirement already satisfied: MarkupSafe>=2.0 in /home/ec2-user/anaconda3/envs/pytorch_p310/lib/python3.10/site-packages (from jinja2->torch>=1.8.0->ultralytics) (2.1.3)\n",
      "Requirement already satisfied: mpmath>=0.19 in /home/ec2-user/anaconda3/envs/pytorch_p310/lib/python3.10/site-packages (from sympy->torch>=1.8.0->ultralytics) (1.3.0)\n",
      "Downloading ultralytics-8.0.167-py3-none-any.whl (613 kB)\n",
      "\u001b[2K   \u001b[90m━━━━━━━━━━━━━━━━━━━━━━━━━━━━━━━━━━━━━━━━\u001b[0m \u001b[32m613.2/613.2 kB\u001b[0m \u001b[31m14.7 MB/s\u001b[0m eta \u001b[36m0:00:00\u001b[0m00:01\u001b[0m\n",
      "\u001b[?25hInstalling collected packages: py-cpuinfo, ultralytics\n",
      "Successfully installed py-cpuinfo-9.0.0 ultralytics-8.0.167\n"
     ]
    }
   ],
   "source": [
    "!pip install ultralytics"
   ]
  },
  {
   "cell_type": "code",
   "execution_count": 2,
   "id": "7909707e-2983-434a-995a-504d2cf2e84b",
   "metadata": {
    "tags": []
   },
   "outputs": [],
   "source": [
    "import os\n",
    "from ultralytics import YOLO\n",
    "import cv2\n",
    "import numpy as np\n",
    "from pathlib import Path\n",
    "import matplotlib.pyplot as plt\n",
    "import numpy as np\n",
    "import torch"
   ]
  },
  {
   "cell_type": "code",
   "execution_count": 3,
   "id": "0b77e15c-3300-4ca3-a7d6-877e0ba499cc",
   "metadata": {
    "tags": []
   },
   "outputs": [],
   "source": [
    "from IPython.display import clear_output\n",
    "!pip install labelbox[data]\n",
    "import labelbox\n",
    "from s3 import get_image_dimensions_from_s3_bucket\n",
    "from PIL import Image  \n",
    "from io import BytesIO,StringIO\n",
    "from tqdm import tqdm  \n",
    "from datetime import datetime \n",
    "from requests.exceptions import RequestException \n",
    "import boto3\n",
    "clear_output()"
   ]
  },
  {
   "cell_type": "markdown",
   "id": "685573b7-17fb-4c1f-9256-2296c209ebdd",
   "metadata": {},
   "source": [
    "## Getting the Predicted and GroundTruth values of key points and bonding boxes"
   ]
  },
  {
   "cell_type": "markdown",
   "id": "27ec161d-ec6f-4fb5-ae05-6915da4b5ebf",
   "metadata": {},
   "source": [
    "giving the paths for model to choose and image to be predicted"
   ]
  },
  {
   "cell_type": "code",
   "execution_count": 4,
   "id": "90232d94-834f-4005-8718-1698aaaedb1a",
   "metadata": {
    "tags": []
   },
   "outputs": [
    {
     "data": {
      "text/plain": [
       "'/home/ec2-user/SageMaker'"
      ]
     },
     "execution_count": 4,
     "metadata": {},
     "output_type": "execute_result"
    }
   ],
   "source": [
    "cwd = os.getcwd()\n",
    "cwd"
   ]
  },
  {
   "cell_type": "code",
   "execution_count": 5,
   "id": "ad1266c6",
   "metadata": {
    "tags": []
   },
   "outputs": [],
   "source": [
    "image_id='25debad9ccacdc856d29b149e5802415330870e4c9f61489bfc1b1f88a5c5f41'"
   ]
  },
  {
   "cell_type": "code",
   "execution_count": 6,
   "id": "a9660704",
   "metadata": {
    "tags": []
   },
   "outputs": [],
   "source": [
    "model_path=cwd+'/runs/pose/train17/weights/best.pt'\n",
    "image_path=cwd+'/dataset_1/images/val/'+image_id+'.jpg'\n",
    "label_path=cwd+'/dataset_1/labels/val/'+image_id+'.txt'"
   ]
  },
  {
   "cell_type": "code",
   "execution_count": 7,
   "id": "bc5af4db-e20f-49ae-87f9-f05a5d599849",
   "metadata": {
    "tags": []
   },
   "outputs": [],
   "source": [
    "#importng the model\n",
    "model = YOLO(model_path)"
   ]
  },
  {
   "cell_type": "code",
   "execution_count": 8,
   "id": "5e52bdaf",
   "metadata": {
    "tags": []
   },
   "outputs": [
    {
     "name": "stderr",
     "output_type": "stream",
     "text": [
      "Ultralytics YOLOv8.0.167 🚀 Python-3.10.12 torch-2.0.1 CUDA:0 (Tesla T4, 15102MiB)\n",
      "YOLOv8x-pose summary (fused): 287 layers, 69464391 parameters, 0 gradients\n",
      "Downloading https://ultralytics.com/assets/Arial.ttf to '/home/ec2-user/.config/Ultralytics/Arial.ttf'...\n",
      "100%|██████████| 755k/755k [00:00<00:00, 53.4MB/s]\n",
      "\u001b[34m\u001b[1mval: \u001b[0mScanning /home/ec2-user/SageMaker/dataset_1/labels/val3.cache... 1 images, 0 backgrounds, 0 corrupt: 100%|██████████| 1/1 [00:00<?, ?it/s]\n",
      "                 Class     Images  Instances      Box(P          R      mAP50  mAP50-95)     Pose(P          R      mAP50  mAP50-95): 100%|██████████| 1/1 [00:05<00:00,  5.64s/it]\n",
      "                   all          1          2          1          1      0.995      0.958        0.5        0.5      0.622      0.498\n",
      "Speed: 0.4ms preprocess, 103.0ms inference, 0.0ms loss, 594.6ms postprocess per image\n",
      "Results saved to \u001b[1mruns/pose/val36\u001b[0m\n"
     ]
    }
   ],
   "source": [
    "#results on validation set\n",
    "val_results=model.val()"
   ]
  },
  {
   "cell_type": "code",
   "execution_count": 9,
   "id": "4b7ef7fd",
   "metadata": {
    "tags": []
   },
   "outputs": [
    {
     "name": "stderr",
     "output_type": "stream",
     "text": [
      "\n",
      "image 1/1 /home/ec2-user/SageMaker/dataset_1/images/val/25debad9ccacdc856d29b149e5802415330870e4c9f61489bfc1b1f88a5c5f41.jpg: 480x640 2 fuse_blocks, 67.2ms\n",
      "Speed: 1.9ms preprocess, 67.2ms inference, 21.6ms postprocess per image at shape (1, 3, 480, 640)\n"
     ]
    }
   ],
   "source": [
    "#running the model on the image and getting predictions\n",
    "results=model(image_path)"
   ]
  },
  {
   "cell_type": "code",
   "execution_count": 10,
   "id": "f1ac6201-a75d-4be7-b592-02656b0c8b74",
   "metadata": {
    "tags": []
   },
   "outputs": [
    {
     "data": {
      "text/plain": [
       "1"
      ]
     },
     "execution_count": 10,
     "metadata": {},
     "output_type": "execute_result"
    }
   ],
   "source": [
    "len(results)"
   ]
  },
  {
   "cell_type": "markdown",
   "id": "ff836709",
   "metadata": {},
   "source": [
    "#### Prdeicted bounding boxes"
   ]
  },
  {
   "cell_type": "code",
   "execution_count": 11,
   "id": "f280df59-35ee-49a0-8cf8-c42a5e97ea9b",
   "metadata": {
    "tags": []
   },
   "outputs": [
    {
     "name": "stderr",
     "output_type": "stream",
     "text": [
      "WARNING ⚠️ 'Boxes.boxes' is deprecated. Use 'Boxes.data' instead.\n"
     ]
    },
    {
     "data": {
      "text/plain": [
       "ultralytics.engine.results.Boxes object with attributes:\n",
       "\n",
       "boxes: tensor([[412.0000, 591.0000, 567.0000, 687.0000,   0.8801,   0.0000],\n",
       "        [404.0000, 465.0000, 561.0000, 564.0000,   0.8712,   0.0000]], device='cuda:0')\n",
       "cls: tensor([0., 0.], device='cuda:0')\n",
       "conf: tensor([0.8801, 0.8712], device='cuda:0')\n",
       "data: tensor([[412.0000, 591.0000, 567.0000, 687.0000,   0.8801,   0.0000],\n",
       "        [404.0000, 465.0000, 561.0000, 564.0000,   0.8712,   0.0000]], device='cuda:0')\n",
       "id: None\n",
       "is_track: False\n",
       "orig_shape: (960, 1280)\n",
       "shape: torch.Size([2, 6])\n",
       "xywh: tensor([[489.5000, 639.0000, 155.0000,  96.0000],\n",
       "        [482.5000, 514.5000, 157.0000,  99.0000]], device='cuda:0')\n",
       "xywhn: tensor([[0.3824, 0.6656, 0.1211, 0.1000],\n",
       "        [0.3770, 0.5359, 0.1227, 0.1031]], device='cuda:0')\n",
       "xyxy: tensor([[412., 591., 567., 687.],\n",
       "        [404., 465., 561., 564.]], device='cuda:0')\n",
       "xyxyn: tensor([[0.3219, 0.6156, 0.4430, 0.7156],\n",
       "        [0.3156, 0.4844, 0.4383, 0.5875]], device='cuda:0')"
      ]
     },
     "execution_count": 11,
     "metadata": {},
     "output_type": "execute_result"
    }
   ],
   "source": [
    "results[0].boxes"
   ]
  },
  {
   "cell_type": "code",
   "execution_count": 12,
   "id": "327cf65e-8d82-478e-8765-bfa770c45c9b",
   "metadata": {
    "tags": []
   },
   "outputs": [
    {
     "name": "stdout",
     "output_type": "stream",
     "text": [
      "torch.Size([2, 4])\n"
     ]
    },
    {
     "data": {
      "text/plain": [
       "tensor([[489.5000, 639.0000, 155.0000,  96.0000],\n",
       "        [482.5000, 514.5000, 157.0000,  99.0000]], device='cuda:0')"
      ]
     },
     "execution_count": 12,
     "metadata": {},
     "output_type": "execute_result"
    }
   ],
   "source": [
    "predicted_bbx=results[0].boxes.xywh\n",
    "print(predicted_bbx.shape)\n",
    "predicted_bbx"
   ]
  },
  {
   "cell_type": "markdown",
   "id": "a7800110",
   "metadata": {},
   "source": [
    "#### Predicted Keypoints"
   ]
  },
  {
   "cell_type": "code",
   "execution_count": 13,
   "id": "0cc92b80",
   "metadata": {
    "tags": []
   },
   "outputs": [
    {
     "data": {
      "text/plain": [
       "ultralytics.engine.results.Keypoints object with attributes:\n",
       "\n",
       "conf: tensor([[9.1569e-01, 9.4305e-01, 9.4718e-01, 9.5455e-01, 9.4256e-01, 9.3398e-01, 9.2955e-01, 8.8639e-01, 1.7828e-03, 3.8250e-04, 9.1337e-01, 9.1913e-01, 9.3527e-01, 9.4529e-01, 9.4643e-01, 9.3883e-01, 9.2764e-01, 9.0341e-01, 4.2924e-03, 9.1525e-04],\n",
       "        [9.4259e-01, 9.6104e-01, 9.6349e-01, 9.6903e-01, 9.5533e-01, 9.4561e-01, 9.3676e-01, 8.9347e-01, 1.5317e-03, 3.8471e-04, 9.4519e-01, 9.5694e-01, 9.6125e-01, 9.6927e-01, 9.6588e-01, 9.5943e-01, 9.4512e-01, 9.2387e-01, 4.4853e-03, 8.9082e-04]], device='cuda:0')\n",
       "data: tensor([[[4.2930e+02, 6.7554e+02, 9.1569e-01],\n",
       "         [4.4761e+02, 6.7602e+02, 9.4305e-01],\n",
       "         [4.6354e+02, 6.7579e+02, 9.4718e-01],\n",
       "         [4.8270e+02, 6.7639e+02, 9.5455e-01],\n",
       "         [4.9646e+02, 6.7550e+02, 9.4256e-01],\n",
       "         [5.1665e+02, 6.7575e+02, 9.3398e-01],\n",
       "         [5.3167e+02, 6.7497e+02, 9.2955e-01],\n",
       "         [5.4854e+02, 6.7485e+02, 8.8639e-01],\n",
       "         [5.1577e+02, 6.7641e+02, 1.7828e-03],\n",
       "         [4.8722e+02, 6.4235e+02, 3.8250e-04],\n",
       "         [4.2632e+02, 6.0219e+02, 9.1337e-01],\n",
       "         [4.4343e+02, 6.0124e+02, 9.1913e-01],\n",
       "         [4.6171e+02, 6.0199e+02, 9.3527e-01],\n",
       "         [4.8095e+02, 6.0205e+02, 9.4529e-01],\n",
       "         [4.9204e+02, 6.0111e+02, 9.4643e-01],\n",
       "         [5.1311e+02, 6.0207e+02, 9.3883e-01],\n",
       "         [5.2901e+02, 6.0144e+02, 9.2764e-01],\n",
       "         [5.4760e+02, 6.0162e+02, 9.0341e-01],\n",
       "         [5.4746e+02, 6.7475e+02, 4.2924e-03],\n",
       "         [5.3318e+02, 6.7325e+02, 9.1525e-04]],\n",
       "\n",
       "        [[4.2446e+02, 5.5282e+02, 9.4259e-01],\n",
       "         [4.4218e+02, 5.5315e+02, 9.6104e-01],\n",
       "         [4.5865e+02, 5.5255e+02, 9.6349e-01],\n",
       "         [4.7820e+02, 5.5250e+02, 9.6903e-01],\n",
       "         [4.9130e+02, 5.5117e+02, 9.5533e-01],\n",
       "         [5.1200e+02, 5.5143e+02, 9.4561e-01],\n",
       "         [5.2724e+02, 5.5090e+02, 9.3676e-01],\n",
       "         [5.4372e+02, 5.5046e+02, 8.9347e-01],\n",
       "         [5.1253e+02, 5.5359e+02, 1.5317e-03],\n",
       "         [4.7250e+02, 5.1074e+02, 3.8471e-04],\n",
       "         [4.1930e+02, 4.7932e+02, 9.4519e-01],\n",
       "         [4.3715e+02, 4.7805e+02, 9.5694e-01],\n",
       "         [4.5576e+02, 4.7832e+02, 9.6125e-01],\n",
       "         [4.7575e+02, 4.7825e+02, 9.6927e-01],\n",
       "         [4.8652e+02, 4.7740e+02, 9.6588e-01],\n",
       "         [5.0818e+02, 4.7718e+02, 9.5943e-01],\n",
       "         [5.2401e+02, 4.7688e+02, 9.4512e-01],\n",
       "         [5.4190e+02, 4.7677e+02, 9.2387e-01],\n",
       "         [5.4392e+02, 5.5044e+02, 4.4853e-03],\n",
       "         [5.2948e+02, 5.4944e+02, 8.9082e-04]]], device='cuda:0')\n",
       "has_visible: True\n",
       "orig_shape: (960, 1280)\n",
       "shape: torch.Size([2, 20, 3])\n",
       "xy: tensor([[[429.3005, 675.5417],\n",
       "         [447.6104, 676.0213],\n",
       "         [463.5447, 675.7867],\n",
       "         [482.7044, 676.3920],\n",
       "         [496.4608, 675.5003],\n",
       "         [516.6529, 675.7534],\n",
       "         [531.6736, 674.9695],\n",
       "         [548.5378, 674.8505],\n",
       "         [515.7711, 676.4062],\n",
       "         [487.2181, 642.3475],\n",
       "         [426.3239, 602.1943],\n",
       "         [443.4270, 601.2421],\n",
       "         [461.7065, 601.9921],\n",
       "         [480.9495, 602.0515],\n",
       "         [492.0370, 601.1072],\n",
       "         [513.1121, 602.0702],\n",
       "         [529.0063, 601.4415],\n",
       "         [547.6006, 601.6218],\n",
       "         [547.4628, 674.7498],\n",
       "         [533.1843, 673.2497]],\n",
       "\n",
       "        [[424.4624, 552.8176],\n",
       "         [442.1826, 553.1485],\n",
       "         [458.6535, 552.5541],\n",
       "         [478.2027, 552.4981],\n",
       "         [491.3026, 551.1726],\n",
       "         [511.9982, 551.4327],\n",
       "         [527.2424, 550.9009],\n",
       "         [543.7236, 550.4636],\n",
       "         [512.5330, 553.5851],\n",
       "         [472.4994, 510.7437],\n",
       "         [419.3019, 479.3188],\n",
       "         [437.1511, 478.0549],\n",
       "         [455.7639, 478.3159],\n",
       "         [475.7503, 478.2514],\n",
       "         [486.5224, 477.3955],\n",
       "         [508.1829, 477.1772],\n",
       "         [524.0070, 476.8772],\n",
       "         [541.8960, 476.7694],\n",
       "         [543.9199, 550.4409],\n",
       "         [529.4846, 549.4419]]], device='cuda:0')\n",
       "xyn: tensor([[[0.3354, 0.7037],\n",
       "         [0.3497, 0.7042],\n",
       "         [0.3621, 0.7039],\n",
       "         [0.3771, 0.7046],\n",
       "         [0.3879, 0.7036],\n",
       "         [0.4036, 0.7039],\n",
       "         [0.4154, 0.7031],\n",
       "         [0.4285, 0.7030],\n",
       "         [0.4029, 0.7046],\n",
       "         [0.3806, 0.6691],\n",
       "         [0.3331, 0.6273],\n",
       "         [0.3464, 0.6263],\n",
       "         [0.3607, 0.6271],\n",
       "         [0.3757, 0.6271],\n",
       "         [0.3844, 0.6262],\n",
       "         [0.4009, 0.6272],\n",
       "         [0.4133, 0.6265],\n",
       "         [0.4278, 0.6267],\n",
       "         [0.4277, 0.7029],\n",
       "         [0.4166, 0.7013]],\n",
       "\n",
       "        [[0.3316, 0.5759],\n",
       "         [0.3455, 0.5762],\n",
       "         [0.3583, 0.5756],\n",
       "         [0.3736, 0.5755],\n",
       "         [0.3838, 0.5741],\n",
       "         [0.4000, 0.5744],\n",
       "         [0.4119, 0.5739],\n",
       "         [0.4248, 0.5734],\n",
       "         [0.4004, 0.5767],\n",
       "         [0.3691, 0.5320],\n",
       "         [0.3276, 0.4993],\n",
       "         [0.3415, 0.4980],\n",
       "         [0.3561, 0.4982],\n",
       "         [0.3717, 0.4982],\n",
       "         [0.3801, 0.4973],\n",
       "         [0.3970, 0.4971],\n",
       "         [0.4094, 0.4967],\n",
       "         [0.4234, 0.4966],\n",
       "         [0.4249, 0.5734],\n",
       "         [0.4137, 0.5723]]], device='cuda:0')"
      ]
     },
     "execution_count": 13,
     "metadata": {},
     "output_type": "execute_result"
    }
   ],
   "source": [
    "results[0].keypoints"
   ]
  },
  {
   "cell_type": "code",
   "execution_count": 14,
   "id": "5cb99f34-74d1-4e77-87ef-909ee6cd5590",
   "metadata": {
    "tags": []
   },
   "outputs": [
    {
     "name": "stdout",
     "output_type": "stream",
     "text": [
      "torch.Size([2, 20, 2])\n"
     ]
    },
    {
     "data": {
      "text/plain": [
       "tensor([[[429.3005, 675.5417],\n",
       "         [447.6104, 676.0213],\n",
       "         [463.5447, 675.7867],\n",
       "         [482.7044, 676.3920],\n",
       "         [496.4608, 675.5003],\n",
       "         [516.6529, 675.7534],\n",
       "         [531.6736, 674.9695],\n",
       "         [548.5378, 674.8505],\n",
       "         [515.7711, 676.4062],\n",
       "         [487.2181, 642.3475],\n",
       "         [426.3239, 602.1943],\n",
       "         [443.4270, 601.2421],\n",
       "         [461.7065, 601.9921],\n",
       "         [480.9495, 602.0515],\n",
       "         [492.0370, 601.1072],\n",
       "         [513.1121, 602.0702],\n",
       "         [529.0063, 601.4415],\n",
       "         [547.6006, 601.6218],\n",
       "         [547.4628, 674.7498],\n",
       "         [533.1843, 673.2497]],\n",
       "\n",
       "        [[424.4624, 552.8176],\n",
       "         [442.1826, 553.1485],\n",
       "         [458.6535, 552.5541],\n",
       "         [478.2027, 552.4981],\n",
       "         [491.3026, 551.1726],\n",
       "         [511.9982, 551.4327],\n",
       "         [527.2424, 550.9009],\n",
       "         [543.7236, 550.4636],\n",
       "         [512.5330, 553.5851],\n",
       "         [472.4994, 510.7437],\n",
       "         [419.3019, 479.3188],\n",
       "         [437.1511, 478.0549],\n",
       "         [455.7639, 478.3159],\n",
       "         [475.7503, 478.2514],\n",
       "         [486.5224, 477.3955],\n",
       "         [508.1829, 477.1772],\n",
       "         [524.0070, 476.8772],\n",
       "         [541.8960, 476.7694],\n",
       "         [543.9199, 550.4409],\n",
       "         [529.4846, 549.4419]]])"
      ]
     },
     "execution_count": 14,
     "metadata": {},
     "output_type": "execute_result"
    }
   ],
   "source": [
    "\n",
    "a=results[0].keypoints\n",
    "required=a.xy\n",
    "predicted_keypoints=required.cpu()\n",
    "#predicted_keypoints=required.numpy()\n",
    "print(predicted_keypoints.shape)\n",
    "predicted_keypoints"
   ]
  },
  {
   "cell_type": "markdown",
   "id": "18c482dc",
   "metadata": {},
   "source": [
    "#### Extracting ground truth values"
   ]
  },
  {
   "cell_type": "code",
   "execution_count": 15,
   "id": "0d1158bd-e462-43fa-9282-c49436682a6c",
   "metadata": {
    "tags": []
   },
   "outputs": [
    {
     "data": {
      "text/plain": [
       "['0 0.378125 0.5390625 0.121875 0.096875 0.33340390625 0.5742635416666667 2 0.3467828125 0.5750447916666667 2 0.35938046875 0.5764770833333334 2 0.37129453125 0.5737427083333333 2 0.38555234375 0.5766072916666667 2 0.396978125 0.574784375 2 0.41133359374999995 0.5725708333333334 2 0.42393125 0.5758260416666666 2 0 0 0 0 0 0 0.3256890625 0.5005229166666667 2 0.339946875 0.4981791666666667 2 0.35391171875 0.4997416666666667 2 0.367290625 0.4989604166666667 2 0.38018125 0.4977885416666667 2 0.39414609375 0.49726770833333334 2 0.40791562499999995 0.4984395833333333 2 0.42070859374999997 0.5001322916666667 2 0 0 0 0 0 0',\n",
       " '0 0.381640625 0.6640625 0.11953125 0.10104166666666667 0.335259375 0.7038645833333333 2 0.34736875 0.7024760416666667 2 0.3622125 0.7040385416666666 2 0.37341015624999996 0.7047322916666666 2 0.38578046875 0.7061218749999999 2 0.399321875 0.7054270833333334 2 0.41104062499999994 0.70803125 2 0.42731640625 0.7064687500000001 2 0 0 0 0 0 0 0.33340390625 0.6222239583333333 2 0.3448296875 0.6237864583333333 2 0.357525 0.6226145833333334 2 0.3713921875 0.624046875 2 0.38379453125 0.627953125 2 0.39707578125 0.6262604166666667 2 0.41006406249999994 0.6246979166666667 2 0.42373593749999994 0.6245677083333334 2 0 0 0 0 0 0']"
      ]
     },
     "execution_count": 15,
     "metadata": {},
     "output_type": "execute_result"
    }
   ],
   "source": [
    "def read_txt_to_list(file_path):\n",
    "    try:\n",
    "        with open(file_path, 'r') as file:\n",
    "            lines = file.readlines()\n",
    "            # Removing newline characters and any leading/trailing spaces\n",
    "            content_list = [line.strip() for line in lines]\n",
    "            return content_list\n",
    "    except FileNotFoundError:\n",
    "        print(f\"File '{file_path}' not found.\")\n",
    "        return []\n",
    "\n",
    "\n",
    "labels = read_txt_to_list(label_path)\n",
    "labels"
   ]
  },
  {
   "cell_type": "code",
   "execution_count": 16,
   "id": "04250ac5",
   "metadata": {
    "tags": []
   },
   "outputs": [
    {
     "name": "stdout",
     "output_type": "stream",
     "text": [
      "1280 960\n"
     ]
    }
   ],
   "source": [
    "im = Image.open(image_path)\n",
    "w,h=im.size\n",
    "print(w,h)"
   ]
  },
  {
   "cell_type": "code",
   "execution_count": 17,
   "id": "70a1bdc4-cb98-450e-8971-f4a1be5975ca",
   "metadata": {
    "tags": []
   },
   "outputs": [],
   "source": [
    "def get_GT_values(labels,w,h):\n",
    "    data=[]\n",
    "    bbx=[]\n",
    "    for i in labels:\n",
    "        k=[]\n",
    "        for t in i.split(' '):\n",
    "            k.append(float(t))\n",
    "        j = k[5:]\n",
    "        #print(k[1:5])\n",
    "        bb=[k[s]*h if s%2==0 else k[s]*w for s in range(1,5)]#keypoints are the form of x, y x should be multiplied by width and y with height\n",
    "        data.append(j)\n",
    "        #print(bb)\n",
    "        bbx.append(bb)\n",
    "    GT_keypoints=[]\n",
    "    for i in data:\n",
    "        l=[]\n",
    "        for k in range(0,len(i)-2,3):\n",
    "            t=[]\n",
    "            t.append(i[k]*w)\n",
    "            t.append(i[k+1]*h)\n",
    "            l.append(t)\n",
    "        GT_keypoints.append(l)\n",
    "    #keypoints are the form of x, y x should be multiplied by width and y with height\n",
    "    \n",
    "    return torch.tensor(bbx),torch.tensor(GT_keypoints)\n",
    "\n",
    "\n",
    "GT_bbx,GT_keypoints= get_GT_values(labels,w,h)"
   ]
  },
  {
   "cell_type": "code",
   "execution_count": 18,
   "id": "eee27699-e063-4078-ab6d-aee49cedfd67",
   "metadata": {
    "tags": []
   },
   "outputs": [
    {
     "name": "stdout",
     "output_type": "stream",
     "text": [
      "torch.Size([2, 4])\n"
     ]
    },
    {
     "data": {
      "text/plain": [
       "tensor([[484.0000, 517.5000, 156.0000,  93.0000],\n",
       "        [488.5000, 637.5000, 153.0000,  97.0000]])"
      ]
     },
     "execution_count": 18,
     "metadata": {},
     "output_type": "execute_result"
    }
   ],
   "source": [
    "print(GT_bbx.shape)\n",
    "GT_bbx"
   ]
  },
  {
   "cell_type": "code",
   "execution_count": 19,
   "id": "77665e30",
   "metadata": {
    "tags": []
   },
   "outputs": [
    {
     "name": "stdout",
     "output_type": "stream",
     "text": [
      "torch.Size([2, 20, 2])\n"
     ]
    },
    {
     "data": {
      "text/plain": [
       "tensor([[[426.7570, 551.2930],\n",
       "         [443.8820, 552.0430],\n",
       "         [460.0070, 553.4180],\n",
       "         [475.2570, 550.7930],\n",
       "         [493.5070, 553.5430],\n",
       "         [508.1320, 551.7930],\n",
       "         [526.5070, 549.6680],\n",
       "         [542.6320, 552.7930],\n",
       "         [  0.0000,   0.0000],\n",
       "         [  0.0000,   0.0000],\n",
       "         [416.8820, 480.5020],\n",
       "         [435.1320, 478.2520],\n",
       "         [453.0070, 479.7520],\n",
       "         [470.1320, 479.0020],\n",
       "         [486.6320, 477.8770],\n",
       "         [504.5070, 477.3770],\n",
       "         [522.1320, 478.5020],\n",
       "         [538.5070, 480.1270],\n",
       "         [  0.0000,   0.0000],\n",
       "         [  0.0000,   0.0000]],\n",
       "\n",
       "        [[429.1320, 675.7100],\n",
       "         [444.6320, 674.3770],\n",
       "         [463.6320, 675.8770],\n",
       "         [477.9650, 676.5430],\n",
       "         [493.7990, 677.8770],\n",
       "         [511.1320, 677.2100],\n",
       "         [526.1320, 679.7100],\n",
       "         [546.9650, 678.2100],\n",
       "         [  0.0000,   0.0000],\n",
       "         [  0.0000,   0.0000],\n",
       "         [426.7570, 597.3350],\n",
       "         [441.3820, 598.8350],\n",
       "         [457.6320, 597.7100],\n",
       "         [475.3820, 599.0850],\n",
       "         [491.2570, 602.8350],\n",
       "         [508.2570, 601.2100],\n",
       "         [524.8820, 599.7100],\n",
       "         [542.3820, 599.5850],\n",
       "         [  0.0000,   0.0000],\n",
       "         [  0.0000,   0.0000]]])"
      ]
     },
     "execution_count": 19,
     "metadata": {},
     "output_type": "execute_result"
    }
   ],
   "source": [
    "print(GT_keypoints.shape)\n",
    "GT_keypoints"
   ]
  },
  {
   "cell_type": "markdown",
   "id": "80d3394b",
   "metadata": {},
   "source": [
    "#### Extracting the area of the groudtruth bboxes"
   ]
  },
  {
   "cell_type": "code",
   "execution_count": 20,
   "id": "4f3bfe33",
   "metadata": {
    "tags": []
   },
   "outputs": [
    {
     "data": {
      "text/plain": [
       "tensor([14508., 14841.])"
      ]
     },
     "execution_count": 20,
     "metadata": {},
     "output_type": "execute_result"
    }
   ],
   "source": [
    "area=[]\n",
    "for i in GT_bbx:\n",
    "    a=i[2]*i[3]\n",
    "    area.append(a)\n",
    "area = torch.tensor(area)\n",
    "area"
   ]
  },
  {
   "cell_type": "markdown",
   "id": "53f84ec7",
   "metadata": {},
   "source": [
    "#### Sigma . sigma (list): A list containing 17 values representing keypoint scales."
   ]
  },
  {
   "cell_type": "code",
   "execution_count": 21,
   "id": "f1bc2351",
   "metadata": {
    "tags": []
   },
   "outputs": [
    {
     "data": {
      "text/plain": [
       "array([       0.05,        0.05,        0.05,        0.05,        0.05,        0.05,        0.05,        0.05,        0.05,        0.05,        0.05,        0.05,        0.05,        0.05,        0.05,        0.05,        0.05,        0.05,        0.05,        0.05])"
      ]
     },
     "execution_count": 21,
     "metadata": {},
     "output_type": "execute_result"
    }
   ],
   "source": [
    "sigma=[1/20 for i in GT_keypoints[0]]\n",
    "sigma=np.array(sigma) \n",
    "\n",
    "len(sigma)\n",
    "sigma"
   ]
  },
  {
   "cell_type": "markdown",
   "id": "b88b200d",
   "metadata": {},
   "source": [
    "## OKS calculation "
   ]
  },
  {
   "cell_type": "code",
   "execution_count": 22,
   "id": "3e0a54a8",
   "metadata": {
    "tags": []
   },
   "outputs": [],
   "source": [
    "def kpt_iou(kpt1, kpt2, area, sigma, eps=1e-7):\n",
    "    \"\"\"\n",
    "    Calculate Object Keypoint Similarity (OKS).\n",
    "\n",
    "    Args:\n",
    "        kpt1 (torch.Tensor): A tensor of shape (N, 17, 3) representing ground truth keypoints.\n",
    "        kpt2 (torch.Tensor): A tensor of shape (M, 17, 3) representing predicted keypoints.\n",
    "        area (torch.Tensor): A tensor of shape (N,) representing areas from ground truth.\n",
    "        sigma (list): A list containing 17 values representing keypoint scales.\n",
    "        eps (float, optional): A small value to avoid division by zero. Defaults to 1e-7.\n",
    "\n",
    "    Returns:\n",
    "        (torch.Tensor): A tensor of shape (N, M) representing keypoint similarities.\n",
    "    \"\"\"\n",
    "    d = (kpt1[:, None, :, 0] - kpt2[..., 0]) ** 2 + (kpt1[:, None, :, 1] - kpt2[..., 1]) ** 2  # (N, M, 17)\n",
    "    sigma = torch.tensor(sigma, device=kpt1.device, dtype=kpt1.dtype)  # (17, )\n",
    "    \n",
    "    kpt_mask = kpt1[..., 1] != 0  # (N, 17)\n",
    "\n",
    "    e = d / (2 * sigma) ** 2 / (area[:, None, None] + eps) / 2  # from cocoeval\n",
    "    #print(f'e: {e}, shape: {e.shape}')\n",
    "    # e = d / ((area[None, :, None] + eps) * sigma) ** 2 / 2  # from formula\n",
    "    \n",
    "    \n",
    "    return (torch.exp(-e) * kpt_mask[:, None]).sum(-1) / (kpt_mask.sum(-1)[:, None] + eps), d"
   ]
  },
  {
   "cell_type": "code",
   "execution_count": 23,
   "id": "96fd8b48",
   "metadata": {
    "tags": []
   },
   "outputs": [
    {
     "data": {
      "text/plain": [
       "tensor([[2.3910e-23, 9.6732e-01],\n",
       "        [9.3315e-01, 3.9905e-22]])"
      ]
     },
     "execution_count": 23,
     "metadata": {},
     "output_type": "execute_result"
    }
   ],
   "source": [
    "oks,d=kpt_iou(GT_keypoints, predicted_keypoints, area, sigma, eps=1e-7)\n",
    "oks"
   ]
  },
  {
   "cell_type": "code",
   "execution_count": 24,
   "id": "a143b0ce",
   "metadata": {
    "tags": []
   },
   "outputs": [
    {
     "data": {
      "text/plain": [
       "[15444.1982421875,\n",
       " 15384.51171875,\n",
       " 14986.6171875,\n",
       " 15830.572265625,\n",
       " 14882.3017578125,\n",
       " 15438.7685546875,\n",
       " 15727.1640625,\n",
       " 14932.8955078125,\n",
       " 723545.1875,\n",
       " 649991.75,\n",
       " 14898.169921875,\n",
       " 15195.3603515625,\n",
       " 15018.3115234375,\n",
       " 15258.1826171875,\n",
       " 15214.90234375,\n",
       " 15622.4365234375,\n",
       " 15161.365234375,\n",
       " 14843.6826171875,\n",
       " 755002.6875,\n",
       " 737550.625,\n",
       " 15124.345703125,\n",
       " 14702.3525390625,\n",
       " 15233.33203125,\n",
       " 15387.19921875,\n",
       " 16060.23828125,\n",
       " 15820.6748046875,\n",
       " 16593.02734375,\n",
       " 16329.6494140625,\n",
       " 569146.625,\n",
       " 484114.875,\n",
       " 13983.40234375,\n",
       " 14605.73046875,\n",
       " 14258.4560546875,\n",
       " 14600.8994140625,\n",
       " 15757.48046875,\n",
       " 15384.150390625,\n",
       " 15088.66796875,\n",
       " 15083.9033203125,\n",
       " 598833.9375,\n",
       " 582240.3125]"
      ]
     },
     "execution_count": 24,
     "metadata": {},
     "output_type": "execute_result"
    }
   ],
   "source": [
    "d1=d.tolist()\n",
    "d2=[d1[0][0],d1[1][1]]\n",
    "ed=[]\n",
    "for i in d2:\n",
    "    for j in i:\n",
    "        ed.append(j)\n",
    "ed"
   ]
  },
  {
   "cell_type": "markdown",
   "id": "ef07a674",
   "metadata": {},
   "source": [
    "#### OKS calculation for GT to corresponding prediction keypoints"
   ]
  },
  {
   "cell_type": "code",
   "execution_count": 25,
   "id": "b61ca916-e030-44a9-9c5b-dd18b20eb7fa",
   "metadata": {
    "tags": []
   },
   "outputs": [],
   "source": [
    "def kpt_iou2(kpt1, kpt2, area, sigma, eps=1e-7):\n",
    "    \"\"\"\n",
    "    Calculate Object Keypoint Similarity (OKS).\n",
    "\n",
    "    Args:\n",
    "        kpt1 (torch.Tensor): A tensor of shape (N, 17, 3) representing ground truth keypoints.\n",
    "        kpt2 (torch.Tensor): A tensor of shape (M, 17, 3) representing predicted keypoints.\n",
    "        area (torch.Tensor): A tensor of shape (N,) representing areas from ground truth.\n",
    "        sigma (list): A list containing 17 values representing keypoint scales.\n",
    "        eps (float, optional): A small value to avoid division by zero. Defaults to 1e-7.\n",
    "\n",
    "    Returns:\n",
    "        (torch.Tensor): A tensor of shape (N, M) representing keypoint similarities.\n",
    "    \"\"\"\n",
    "    d = (kpt1[:, None, :, 0] - kpt2[..., 0]) ** 2 + (kpt1[:, None, :, 1] - kpt2[..., 1]) ** 2  # (N, M, 17)\n",
    "    sigma = torch.tensor(sigma, device=kpt1.device, dtype=kpt1.dtype)  # (17, )\n",
    "    kpt_mask = kpt1[..., 1] != 0  # (N, 17)\n",
    "    e = d / (2 * sigma) ** 2 / (area[:, None, None] + eps) / 2  # from cocoeval\n",
    "    #print(f'e: {e}, shape: {e.shape}')\n",
    "    # e = d / ((area[None, :, None] + eps) * sigma) ** 2 / 2  # from formula\n",
    "    \n",
    "    \n",
    "    return (torch.exp(-e) * kpt_mask[:, None])/ (kpt_mask[:, None] + eps)"
   ]
  },
  {
   "cell_type": "code",
   "execution_count": 26,
   "id": "ae589ab1-8a99-42bf-99dc-615c578e9b29",
   "metadata": {
    "tags": []
   },
   "outputs": [
    {
     "data": {
      "text/plain": [
       "tensor([[[7.6565e-24, 9.4051e-24, 3.7061e-23, 2.0218e-24, 5.3094e-23, 7.8011e-24, 2.8874e-24, 4.4598e-23, 0.0000e+00, 0.0000e+00, 5.0268e-23, 1.8050e-23, 3.3226e-23, 1.4536e-23, 1.6874e-23, 4.1424e-24, 2.0294e-23, 6.0652e-23, 0.0000e+00, 0.0000e+00],\n",
       "         [9.7418e-01, 9.8594e-01, 9.9115e-01, 9.6086e-01, 9.6453e-01, 9.4936e-01, 9.9292e-01, 9.7745e-01, 0.0000e+00, 0.0000e+00, 9.7530e-01, 9.8592e-01, 9.6724e-01, 8.9518e-01, 9.9916e-01, 9.5437e-01, 9.7901e-01, 9.2456e-01, 0.0000e+00, 0.0000e+00]],\n",
       "\n",
       "        [[9.9981e-01, 9.6176e-01, 9.9995e-01, 9.2705e-01, 9.5801e-01, 8.9598e-01, 8.3596e-01, 9.5470e-01, 0.0000e+00, 0.0000e+00, 9.2295e-01, 9.6695e-01, 8.8896e-01, 8.7452e-01, 9.8797e-01, 9.2136e-01, 9.3482e-01, 8.9967e-01, 0.0000e+00, 0.0000e+00],\n",
       "         [7.4250e-23, 3.0771e-22, 5.1432e-23, 3.0627e-23, 3.1720e-24, 7.1098e-24, 5.2697e-25, 1.2798e-24, 0.0000e+00, 0.0000e+00, 3.4680e-21, 4.2610e-22, 1.3729e-21, 4.3309e-22, 8.7968e-24, 3.0943e-23, 8.3733e-23, 8.5089e-23, 0.0000e+00, 0.0000e+00]]])"
      ]
     },
     "execution_count": 26,
     "metadata": {},
     "output_type": "execute_result"
    }
   ],
   "source": [
    "OKS=kpt_iou2(GT_keypoints, predicted_keypoints, area, sigma, eps=1e-7)\n",
    "OKS"
   ]
  },
  {
   "cell_type": "markdown",
   "id": "93c940a2",
   "metadata": {},
   "source": [
    "### Claculating mAP score "
   ]
  },
  {
   "cell_type": "markdown",
   "id": "8957e252",
   "metadata": {},
   "source": [
    "ap_per_class function Computes the average precision per class for object detection evaluation.\n",
    "\n",
    "arguments needed for this function are :\n",
    "1) tp np.ndarray): True positive counts for each class.\n",
    "2) conf (np.ndarray): Array of confidence scores of the detections.\n",
    "3) pred_cls (np.ndarray): Array of predicted classes of the detections.\n",
    "4) target_cls (np.ndarray): Array of true classes of the detections.\n",
    "5) plot (bool, optional): Whether to plot PR curves or not. Defaults to False.\n",
    "6) on_plot (func, optional): A callback to pass plots path and data when they are rendered. Defaults to None.\n",
    "7) save_dir (Path, optional): Directory to save the PR curves. Defaults to an empty path.\n",
    "8) names (tuple, optional): Tuple of class names to plot PR curves. Defaults to an empty tuple.\n",
    "9) eps (float, optional): A small value to avoid division by zero. Defaults to 1e-16.\n",
    "10) prefix (str, optional): A prefix string for saving the plot files. Defaults to an empty string.\n"
   ]
  },
  {
   "cell_type": "code",
   "execution_count": 27,
   "id": "ff020bdd",
   "metadata": {
    "tags": []
   },
   "outputs": [],
   "source": [
    "def ap_per_class(tp,\n",
    "                 conf,\n",
    "                 pred_cls,\n",
    "                 target_cls,\n",
    "                 plot=False,\n",
    "                 on_plot=None,\n",
    "                 save_dir=Path(),\n",
    "                 names={},\n",
    "                 eps=1e-16,\n",
    "                 prefix=''):\n",
    "    \"\"\"\n",
    "\n",
    "    Returns:\n",
    "        (tuple): A tuple of six arrays and one array of unique classes, where:\n",
    "            tp (np.ndarray): True positive counts for each class.\n",
    "            fp (np.ndarray): False positive counts for each class.\n",
    "            p (np.ndarray): Precision values at each confidence threshold.\n",
    "            r (np.ndarray): Recall values at each confidence threshold.\n",
    "            f1 (np.ndarray): F1-score values at each confidence threshold.\n",
    "            ap (np.ndarray): Average precision for each class at different IoU thresholds.\n",
    "            unique_classes (np.ndarray): An array of unique classes that have data.\n",
    "\n",
    "    \"\"\"\n",
    "\n",
    "    # Sort by objectness\n",
    "    i = np.argsort(-conf)\n",
    "    tp, conf, pred_cls = tp[i], conf[i], pred_cls[i]\n",
    "\n",
    "    # Find unique classes\n",
    "    unique_classes, nt = np.unique(target_cls, return_counts=True)\n",
    "    nc = unique_classes.shape[0]  # number of classes, number of detections\n",
    "\n",
    "    # Create Precision-Recall curve and compute AP for each class\n",
    "    px, py = np.linspace(0, 1, 1000), []  # for plotting\n",
    "    ap, p, r = np.zeros((nc, tp.shape[1])), np.zeros((nc, 1000)), np.zeros((nc, 1000))\n",
    "    for ci, c in enumerate(unique_classes):\n",
    "        i = pred_cls == c\n",
    "        n_l = nt[ci]  # number of labels\n",
    "        n_p = i.sum()  # number of predictions\n",
    "        if n_p == 0 or n_l == 0:\n",
    "            continue\n",
    "\n",
    "        # Accumulate FPs and TPs\n",
    "        fpc = (1 - tp[i]).cumsum(0)\n",
    "        tpc = tp[i].cumsum(0)\n",
    "\n",
    "        # Recall\n",
    "        recall = tpc / (n_l + eps)  # recall curve\n",
    "        r[ci] = np.interp(-px, -conf[i], recall[:, 0], left=0)  # negative x, xp because xp decreases\n",
    "        print(\"RECALL\")\n",
    "        print(recall)\n",
    "        print(\"___________________________________\")\n",
    "        # Precision\n",
    "        precision = tpc / (tpc + fpc)  # precision curve\n",
    "        p[ci] = np.interp(-px, -conf[i], precision[:, 0], left=1)  # p at pr_score\n",
    "        print(\"PRECISION\")\n",
    "        print(precision)\n",
    "        print(\"___________________________________\")\n",
    "\n",
    "        # AP from recall-precision curve\n",
    "        for j in range(tp.shape[1]):\n",
    "            ap[ci, j], mpre, mrec = compute_ap(recall[:, j], precision[:, j])\n",
    "            if plot and j == 0:\n",
    "                py.append(np.interp(px, mrec, mpre))  # precision at mAP@0.5\n",
    "\n",
    "    # Compute F1 (harmonic mean of precision and recall)\n",
    "    f1 = 2 * p * r / (p + r + eps)\n",
    "    names = [v for k, v in names.items() if k in unique_classes]  # list: only classes that have data\n",
    "    names = dict(enumerate(names))  # to dict\n",
    "    '''if plot:\n",
    "        plot_pr_curve(px, py, ap, save_dir / f'{prefix}PR_curve.png', names, on_plot=on_plot)\n",
    "        plot_mc_curve(px, f1, save_dir / f'{prefix}F1_curve.png', names, ylabel='F1', on_plot=on_plot)\n",
    "        plot_mc_curve(px, p, save_dir / f'{prefix}P_curve.png', names, ylabel='Precision', on_plot=on_plot)\n",
    "        plot_mc_curve(px, r, save_dir / f'{prefix}R_curve.png', names, ylabel='Recall', on_plot=on_plot)'''\n",
    "\n",
    "    i = smooth(f1.mean(0), 0.1).argmax()  # max F1 index\n",
    "    p, r, f1 = p[:, i], r[:, i], f1[:, i]\n",
    "    tp = (r * nt).round()  # true positives\n",
    "    fp = (tp / (p + eps) - tp).round()  # false positives\n",
    "    return tp, fp, p, r, f1, ap, unique_classes.astype(int)\n"
   ]
  },
  {
   "cell_type": "markdown",
   "id": "f16a834f",
   "metadata": {},
   "source": [
    "##### tp (np.ndarray): True positive counts for each class, Calculating true positives in our case"
   ]
  },
  {
   "cell_type": "code",
   "execution_count": 28,
   "id": "50bca97c",
   "metadata": {
    "tags": []
   },
   "outputs": [
    {
     "name": "stdout",
     "output_type": "stream",
     "text": [
      "(2, 20)\n"
     ]
    },
    {
     "data": {
      "text/plain": [
       "array([[    0.97418,     0.98594,     0.99115,     0.96086,     0.96453,     0.94936,     0.99292,     0.97745,           0,           0,      0.9753,     0.98592,     0.96724,     0.89518,     0.99916,     0.95437,     0.97901,     0.92456,           0,           0],\n",
       "       [    0.99981,     0.96176,     0.99995,     0.92705,     0.95801,     0.89598,     0.83596,      0.9547,           0,           0,     0.92295,     0.96695,     0.88896,     0.87452,     0.98797,     0.92136,     0.93482,     0.89967,           0,           0]])"
      ]
     },
     "execution_count": 28,
     "metadata": {},
     "output_type": "execute_result"
    }
   ],
   "source": [
    "oks_array=np.array([OKS[0][1].tolist(),OKS[1][0].tolist()])\n",
    "print(oks_array.shape)\n",
    "oks_array"
   ]
  },
  {
   "cell_type": "code",
   "execution_count": 29,
   "id": "d308f275",
   "metadata": {
    "tags": []
   },
   "outputs": [
    {
     "data": {
      "text/plain": [
       "array([1, 1, 1, 1, 1, 1, 1, 1, 0, 0, 1, 1, 1, 0, 1, 1, 1, 1, 0, 0, 1, 1, 1, 1, 1, 0, 0, 1, 0, 0, 1, 1, 0, 0, 1, 1, 1, 0, 0, 0])"
      ]
     },
     "execution_count": 29,
     "metadata": {},
     "output_type": "execute_result"
    }
   ],
   "source": [
    "import numpy as np\n",
    "oks_binary=[]\n",
    "for i in oks_array:\n",
    "    #print(i)\n",
    "    l=[]\n",
    "    for j in i:\n",
    "        #print(j)\n",
    "        if j>=0.9:\n",
    "                l.append(1)\n",
    "        else:\n",
    "                l.append(0)\n",
    "    oks_binary.append(l)\n",
    "\n",
    "'''tp=np.asarray(oks_binary)\n",
    "print(tp.shape)'''\n",
    "tp= np.asarray([item for sublist in oks_binary for item in sublist])\n",
    "tp"
   ]
  },
  {
   "cell_type": "code",
   "execution_count": null,
   "id": "893fa22a",
   "metadata": {},
   "outputs": [],
   "source": []
  },
  {
   "cell_type": "code",
   "execution_count": 30,
   "id": "802d48c1",
   "metadata": {
    "tags": []
   },
   "outputs": [],
   "source": [
    "tp = tp.reshape((len(tp), 1))"
   ]
  },
  {
   "cell_type": "code",
   "execution_count": 31,
   "id": "9f9ce634",
   "metadata": {
    "tags": []
   },
   "outputs": [
    {
     "data": {
      "text/plain": [
       "(40, 1)"
      ]
     },
     "execution_count": 31,
     "metadata": {},
     "output_type": "execute_result"
    }
   ],
   "source": [
    "tp.shape"
   ]
  },
  {
   "cell_type": "markdown",
   "id": "bcc7c2a5",
   "metadata": {},
   "source": [
    "#### Confidence score- conf (np.ndarray): Array of confidence scores of the detections."
   ]
  },
  {
   "cell_type": "code",
   "execution_count": 32,
   "id": "ebe113ec",
   "metadata": {
    "tags": []
   },
   "outputs": [
    {
     "data": {
      "text/plain": [
       "[[0.9156899452209473,\n",
       "  0.943047046661377,\n",
       "  0.9471763968467712,\n",
       "  0.9545457363128662,\n",
       "  0.9425613880157471,\n",
       "  0.9339821338653564,\n",
       "  0.9295464158058167,\n",
       "  0.8863851428031921,\n",
       "  0.0017828426789492369,\n",
       "  0.0003824982268270105,\n",
       "  0.9133736491203308,\n",
       "  0.9191308617591858,\n",
       "  0.9352748990058899,\n",
       "  0.9452911019325256,\n",
       "  0.9464324116706848,\n",
       "  0.9388270974159241,\n",
       "  0.9276393055915833,\n",
       "  0.9034082293510437,\n",
       "  0.004292359575629234,\n",
       "  0.0009152456768788397],\n",
       " [0.9425906538963318,\n",
       "  0.9610418081283569,\n",
       "  0.9634930491447449,\n",
       "  0.9690299034118652,\n",
       "  0.955328643321991,\n",
       "  0.9456093311309814,\n",
       "  0.9367578029632568,\n",
       "  0.8934694528579712,\n",
       "  0.0015317475190386176,\n",
       "  0.000384712329832837,\n",
       "  0.9451879262924194,\n",
       "  0.956940770149231,\n",
       "  0.9612489342689514,\n",
       "  0.9692705273628235,\n",
       "  0.9658834338188171,\n",
       "  0.9594281911849976,\n",
       "  0.9451246857643127,\n",
       "  0.923872172832489,\n",
       "  0.004485331941395998,\n",
       "  0.0008908185991458595]]"
      ]
     },
     "execution_count": 32,
     "metadata": {},
     "output_type": "execute_result"
    }
   ],
   "source": [
    "conf_tensor=results[0].keypoints.conf\n",
    "#conf=np.asarray(conf_tensor.tolist())\n",
    "conf=conf_tensor.tolist()\n",
    "#print(conf.shape)\n",
    "conf"
   ]
  },
  {
   "cell_type": "code",
   "execution_count": 33,
   "id": "725828e7",
   "metadata": {
    "tags": []
   },
   "outputs": [
    {
     "data": {
      "text/plain": [
       "array([    0.91569,     0.94305,     0.94718,     0.95455,     0.94256,     0.93398,     0.92955,     0.88639,   0.0017828,   0.0003825,     0.91337,     0.91913,     0.93527,     0.94529,     0.94643,     0.93883,     0.92764,     0.90341,   0.0042924,  0.00091525,     0.94259,     0.96104,     0.96349,     0.96903,\n",
       "           0.95533,     0.94561,     0.93676,     0.89347,   0.0015317,  0.00038471,     0.94519,     0.95694,     0.96125,     0.96927,     0.96588,     0.95943,     0.94512,     0.92387,   0.0044853,  0.00089082])"
      ]
     },
     "execution_count": 33,
     "metadata": {},
     "output_type": "execute_result"
    }
   ],
   "source": [
    "conf=np.asarray([item for sublist in conf for item in sublist])\n",
    "conf"
   ]
  },
  {
   "cell_type": "code",
   "execution_count": 34,
   "id": "e7cfe455",
   "metadata": {
    "tags": []
   },
   "outputs": [
    {
     "data": {
      "text/plain": [
       "(40,)"
      ]
     },
     "execution_count": 34,
     "metadata": {},
     "output_type": "execute_result"
    }
   ],
   "source": [
    "conf.shape"
   ]
  },
  {
   "cell_type": "markdown",
   "id": "6b3a2855",
   "metadata": {},
   "source": [
    "#### Pred_cls - pred_cls (np.ndarray): Array of predicted classes of the detections."
   ]
  },
  {
   "cell_type": "code",
   "execution_count": 35,
   "id": "da121fb0",
   "metadata": {
    "tags": []
   },
   "outputs": [
    {
     "data": {
      "text/plain": [
       "' here we were not sure of what pred_cls means in this context'"
      ]
     },
     "execution_count": 35,
     "metadata": {},
     "output_type": "execute_result"
    }
   ],
   "source": [
    "''' here we were not sure of what pred_cls means in this context'''"
   ]
  },
  {
   "cell_type": "code",
   "execution_count": 36,
   "id": "0bf6e5c7",
   "metadata": {
    "tags": []
   },
   "outputs": [
    {
     "name": "stdout",
     "output_type": "stream",
     "text": [
      "(40,) (40,)\n"
     ]
    }
   ],
   "source": [
    "pred_cls=np.asarray([0,1,2,3,4,5,6,7,8,9,10,11,12,13,14,15,16,17,18,19, 0,1,2,3,4,5,6,7,8,9,10,11,12,13,14,15,16,17,18,19])\n",
    "target_cls=pred_cls\n",
    "print(pred_cls.shape,target_cls.shape)"
   ]
  },
  {
   "cell_type": "code",
   "execution_count": 37,
   "id": "e2b03ccc",
   "metadata": {
    "tags": []
   },
   "outputs": [
    {
     "name": "stdout",
     "output_type": "stream",
     "text": [
      "(40,) (40,)\n",
      "[1 1 1 1 1 1 1 1 0 0 1 1 1 1 1 1 1 1 0 0 1 1 1 1 1 1 1 1 0 0 1 1 1 1 1 1 1 1 0 0]\n"
     ]
    }
   ],
   "source": [
    "l=[8,9,18,19,28,29,38,39]\n",
    "pred_cls2=np.asarray([1 if i not in l else 0 for i in range(40)])\n",
    "target_cls2=pred_cls2\n",
    "print(pred_cls2.shape,target_cls2.shape)\n",
    "print(pred_cls2)"
   ]
  },
  {
   "cell_type": "code",
   "execution_count": 38,
   "id": "4c30fae7",
   "metadata": {
    "tags": []
   },
   "outputs": [
    {
     "name": "stdout",
     "output_type": "stream",
     "text": [
      "(40,) (40,)\n",
      "[2 2 2 2 2 2 2 2 2 2 2 2 2 2 2 2 2 2 2 2 2 2 2 2 2 2 2 2 2 2 2 2 2 2 2 2 2 2 2 2]\n"
     ]
    }
   ],
   "source": [
    "l=[8,9,18,19,28,29,38,39]\n",
    "target_cls2=np.asarray([2 if i not in l else 0 for i in range(40)])\n",
    "pred_cls2=np.asarray([2  for i in range(40)])\n",
    "print(pred_cls2.shape,target_cls2.shape)\n",
    "print(pred_cls2)"
   ]
  },
  {
   "cell_type": "code",
   "execution_count": 39,
   "id": "57239cf0",
   "metadata": {
    "tags": []
   },
   "outputs": [
    {
     "name": "stdout",
     "output_type": "stream",
     "text": [
      "(40,) (40,)\n",
      "[0 0 0 0 0 0 0 0 0 0 0 0 0 0 0 0 0 0 0 0 0 0 0 0 0 0 0 0 0 0 0 0 0 0 0 0 0 0 0 0]\n"
     ]
    }
   ],
   "source": [
    "pred_cls2=np.asarray([ 0 for i in range(40)])\n",
    "target_cls2=pred_cls2\n",
    "print(pred_cls2.shape,target_cls2.shape)\n",
    "print(pred_cls2)"
   ]
  },
  {
   "cell_type": "code",
   "execution_count": 40,
   "id": "dadb6592",
   "metadata": {
    "tags": []
   },
   "outputs": [],
   "source": [
    "def compute_ap(recall, precision):\n",
    "    \"\"\"\n",
    "    Compute the average precision (AP) given the recall and precision curves.\n",
    "\n",
    "    Arguments:\n",
    "        recall (list): The recall curve.\n",
    "        precision (list): The precision curve.\n",
    "\n",
    "    Returns:\n",
    "        (float): Average precision.\n",
    "        (np.ndarray): Precision envelope curve.\n",
    "        (np.ndarray): Modified recall curve with sentinel values added at the beginning and end.\n",
    "    \"\"\"\n",
    "\n",
    "    # Append sentinel values to beginning and end\n",
    "    mrec = np.concatenate(([0.0], recall, [1.0]))\n",
    "    mpre = np.concatenate(([1.0], precision, [0.0]))\n",
    "\n",
    "    # Compute the precision envelope\n",
    "    mpre = np.flip(np.maximum.accumulate(np.flip(mpre)))\n",
    "\n",
    "    # Integrate area under curve\n",
    "    method = 'interp'  # methods: 'continuous', 'interp'\n",
    "    if method == 'interp':\n",
    "        x = np.linspace(0, 1, 101)  # 101-point interp (COCO)\n",
    "        ap = np.trapz(np.interp(x, mrec, mpre), x)  # integrate\n",
    "    else:  # 'continuous'\n",
    "        i = np.where(mrec[1:] != mrec[:-1])[0]  # points where x-axis (recall) changes\n",
    "        ap = np.sum((mrec[i + 1] - mrec[i]) * mpre[i + 1])  # area under curve\n",
    "\n",
    "    return ap, mpre, mrec"
   ]
  },
  {
   "cell_type": "code",
   "execution_count": 41,
   "id": "6e6a6110",
   "metadata": {
    "tags": []
   },
   "outputs": [],
   "source": [
    "def smooth(y, f=0.05):\n",
    "    \"\"\"Box filter of fraction f.\"\"\"\n",
    "    nf = round(len(y) * f * 2) // 2 + 1  # number of filter elements (must be odd)\n",
    "    p = np.ones(nf // 2)  # ones padding\n",
    "    yp = np.concatenate((p * y[0], y, p * y[-1]), 0)  # y padded\n",
    "    return np.convolve(yp, np.ones(nf) / nf, mode='valid')  # y-smoothed"
   ]
  },
  {
   "cell_type": "code",
   "execution_count": 42,
   "id": "ce6a9cfd",
   "metadata": {
    "tags": []
   },
   "outputs": [
    {
     "name": "stdout",
     "output_type": "stream",
     "text": [
      "RECALL\n",
      "[[          0]\n",
      " [      0.025]\n",
      " [       0.05]\n",
      " [      0.075]\n",
      " [      0.075]\n",
      " [        0.1]\n",
      " [      0.125]\n",
      " [       0.15]\n",
      " [      0.175]\n",
      " [        0.2]\n",
      " [      0.225]\n",
      " [       0.25]\n",
      " [       0.25]\n",
      " [       0.25]\n",
      " [      0.275]\n",
      " [        0.3]\n",
      " [      0.325]\n",
      " [       0.35]\n",
      " [      0.375]\n",
      " [        0.4]\n",
      " [        0.4]\n",
      " [      0.425]\n",
      " [       0.45]\n",
      " [      0.475]\n",
      " [        0.5]\n",
      " [        0.5]\n",
      " [      0.525]\n",
      " [       0.55]\n",
      " [      0.575]\n",
      " [        0.6]\n",
      " [      0.625]\n",
      " [       0.65]\n",
      " [       0.65]\n",
      " [       0.65]\n",
      " [       0.65]\n",
      " [       0.65]\n",
      " [       0.65]\n",
      " [       0.65]\n",
      " [       0.65]\n",
      " [       0.65]]\n",
      "___________________________________\n",
      "PRECISION\n",
      "[[          0]\n",
      " [        0.5]\n",
      " [    0.66667]\n",
      " [       0.75]\n",
      " [        0.6]\n",
      " [    0.66667]\n",
      " [    0.71429]\n",
      " [       0.75]\n",
      " [    0.77778]\n",
      " [        0.8]\n",
      " [    0.81818]\n",
      " [    0.83333]\n",
      " [    0.76923]\n",
      " [    0.71429]\n",
      " [    0.73333]\n",
      " [       0.75]\n",
      " [    0.76471]\n",
      " [    0.77778]\n",
      " [    0.78947]\n",
      " [        0.8]\n",
      " [     0.7619]\n",
      " [    0.77273]\n",
      " [    0.78261]\n",
      " [    0.79167]\n",
      " [        0.8]\n",
      " [    0.76923]\n",
      " [    0.77778]\n",
      " [    0.78571]\n",
      " [     0.7931]\n",
      " [        0.8]\n",
      " [    0.80645]\n",
      " [     0.8125]\n",
      " [    0.78788]\n",
      " [    0.76471]\n",
      " [    0.74286]\n",
      " [    0.72222]\n",
      " [     0.7027]\n",
      " [    0.68421]\n",
      " [    0.66667]\n",
      " [       0.65]]\n",
      "___________________________________\n"
     ]
    },
    {
     "data": {
      "text/plain": [
       "(array([         26]),\n",
       " array([          6]),\n",
       " array([    0.81109]),\n",
       " array([       0.65]),\n",
       " array([    0.72166]),\n",
       " array([[    0.64617]]),\n",
       " array([0]))"
      ]
     },
     "execution_count": 42,
     "metadata": {},
     "output_type": "execute_result"
    }
   ],
   "source": [
    "ap_results2=ap_per_class(tp,\n",
    "                 conf,\n",
    "                 pred_cls2,\n",
    "                 target_cls2,\n",
    "                 save_dir='/home/ec2-user/SageMaker/trial2',\n",
    "                 eps=1e-16,\n",
    "                 prefix='Pose')\n",
    "ap_results2"
   ]
  },
  {
   "cell_type": "code",
   "execution_count": 43,
   "id": "bfb89014",
   "metadata": {
    "tags": []
   },
   "outputs": [
    {
     "name": "stdout",
     "output_type": "stream",
     "text": [
      "RECALL\n",
      "[[        0.5]\n",
      " [          1]]\n",
      "___________________________________\n",
      "PRECISION\n",
      "[[          1]\n",
      " [          1]]\n",
      "___________________________________\n",
      "RECALL\n",
      "[[        0.5]\n",
      " [          1]]\n",
      "___________________________________\n",
      "PRECISION\n",
      "[[          1]\n",
      " [          1]]\n",
      "___________________________________\n",
      "RECALL\n",
      "[[        0.5]\n",
      " [          1]]\n",
      "___________________________________\n",
      "PRECISION\n",
      "[[          1]\n",
      " [          1]]\n",
      "___________________________________\n",
      "RECALL\n",
      "[[        0.5]\n",
      " [          1]]\n",
      "___________________________________\n",
      "PRECISION\n",
      "[[          1]\n",
      " [          1]]\n",
      "___________________________________\n",
      "RECALL\n",
      "[[        0.5]\n",
      " [          1]]\n",
      "___________________________________\n",
      "PRECISION\n",
      "[[          1]\n",
      " [          1]]\n",
      "___________________________________\n",
      "RECALL\n",
      "[[          0]\n",
      " [        0.5]]\n",
      "___________________________________\n",
      "PRECISION\n",
      "[[          0]\n",
      " [        0.5]]\n",
      "___________________________________\n",
      "RECALL\n",
      "[[          0]\n",
      " [        0.5]]\n",
      "___________________________________\n",
      "PRECISION\n",
      "[[          0]\n",
      " [        0.5]]\n",
      "___________________________________\n",
      "RECALL\n",
      "[[        0.5]\n",
      " [          1]]\n",
      "___________________________________\n",
      "PRECISION\n",
      "[[          1]\n",
      " [          1]]\n",
      "___________________________________\n",
      "RECALL\n",
      "[[          0]\n",
      " [          0]]\n",
      "___________________________________\n",
      "PRECISION\n",
      "[[          0]\n",
      " [          0]]\n",
      "___________________________________\n",
      "RECALL\n",
      "[[          0]\n",
      " [          0]]\n",
      "___________________________________\n",
      "PRECISION\n",
      "[[          0]\n",
      " [          0]]\n",
      "___________________________________\n",
      "RECALL\n",
      "[[        0.5]\n",
      " [          1]]\n",
      "___________________________________\n",
      "PRECISION\n",
      "[[          1]\n",
      " [          1]]\n",
      "___________________________________\n",
      "RECALL\n",
      "[[        0.5]\n",
      " [          1]]\n",
      "___________________________________\n",
      "PRECISION\n",
      "[[          1]\n",
      " [          1]]\n",
      "___________________________________\n",
      "RECALL\n",
      "[[          0]\n",
      " [        0.5]]\n",
      "___________________________________\n",
      "PRECISION\n",
      "[[          0]\n",
      " [        0.5]]\n",
      "___________________________________\n",
      "RECALL\n",
      "[[          0]\n",
      " [          0]]\n",
      "___________________________________\n",
      "PRECISION\n",
      "[[          0]\n",
      " [          0]]\n",
      "___________________________________\n",
      "RECALL\n",
      "[[        0.5]\n",
      " [          1]]\n",
      "___________________________________\n",
      "PRECISION\n",
      "[[          1]\n",
      " [          1]]\n",
      "___________________________________\n",
      "RECALL\n",
      "[[        0.5]\n",
      " [          1]]\n",
      "___________________________________\n",
      "PRECISION\n",
      "[[          1]\n",
      " [          1]]\n",
      "___________________________________\n",
      "RECALL\n",
      "[[        0.5]\n",
      " [          1]]\n",
      "___________________________________\n",
      "PRECISION\n",
      "[[          1]\n",
      " [          1]]\n",
      "___________________________________\n",
      "RECALL\n",
      "[[          0]\n",
      " [        0.5]]\n",
      "___________________________________\n",
      "PRECISION\n",
      "[[          0]\n",
      " [        0.5]]\n",
      "___________________________________\n",
      "RECALL\n",
      "[[          0]\n",
      " [          0]]\n",
      "___________________________________\n",
      "PRECISION\n",
      "[[          0]\n",
      " [          0]]\n",
      "___________________________________\n",
      "RECALL\n",
      "[[          0]\n",
      " [          0]]\n",
      "___________________________________\n",
      "PRECISION\n",
      "[[          0]\n",
      " [          0]]\n",
      "___________________________________\n"
     ]
    }
   ],
   "source": [
    "ap_results=ap_per_class(tp,\n",
    "                 conf,\n",
    "                 pred_cls,\n",
    "                 target_cls,\n",
    "                 save_dir='/home/ec2-user/SageMaker/trial2',\n",
    "                 eps=1e-16,\n",
    "                 prefix='Pose')"
   ]
  },
  {
   "cell_type": "code",
   "execution_count": 44,
   "id": "94f40b0c",
   "metadata": {
    "tags": []
   },
   "outputs": [
    {
     "data": {
      "text/plain": [
       "array([[      0.995],\n",
       "       [      0.995],\n",
       "       [      0.995],\n",
       "       [      0.995],\n",
       "       [      0.995],\n",
       "       [      0.375],\n",
       "       [      0.375],\n",
       "       [      0.995],\n",
       "       [          0],\n",
       "       [          0],\n",
       "       [      0.995],\n",
       "       [      0.995],\n",
       "       [      0.375],\n",
       "       [          0],\n",
       "       [      0.995],\n",
       "       [      0.995],\n",
       "       [      0.995],\n",
       "       [      0.375],\n",
       "       [          0],\n",
       "       [          0]])"
      ]
     },
     "execution_count": 44,
     "metadata": {},
     "output_type": "execute_result"
    }
   ],
   "source": [
    "ap_results[5]"
   ]
  },
  {
   "cell_type": "code",
   "execution_count": 45,
   "id": "e90ee1e7",
   "metadata": {
    "tags": []
   },
   "outputs": [
    {
     "data": {
      "text/plain": [
       "0.7778125"
      ]
     },
     "execution_count": 45,
     "metadata": {},
     "output_type": "execute_result"
    }
   ],
   "source": [
    "(np.mean(ap_results[5])*1.25)"
   ]
  },
  {
   "cell_type": "code",
   "execution_count": 57,
   "id": "6bf19f9e",
   "metadata": {
    "tags": []
   },
   "outputs": [
    {
     "name": "stdout",
     "output_type": "stream",
     "text": [
      "40\n"
     ]
    },
    {
     "data": {
      "text/plain": [
       "['[426.76, 551.29]',\n",
       " '[443.88, 552.04]',\n",
       " '[460.01, 553.42]',\n",
       " '[475.26, 550.79]',\n",
       " '[493.51, 553.54]',\n",
       " '[508.13, 551.79]',\n",
       " '[526.51, 549.67]',\n",
       " '[542.63, 552.79]',\n",
       " '[0.0, 0.0]',\n",
       " '[0.0, 0.0]',\n",
       " '[416.88, 480.5]',\n",
       " '[435.13, 478.25]',\n",
       " '[453.01, 479.75]',\n",
       " '[470.13, 479.0]',\n",
       " '[486.63, 477.88]',\n",
       " '[504.51, 477.38]',\n",
       " '[522.13, 478.5]',\n",
       " '[538.51, 480.13]',\n",
       " '[0.0, 0.0]',\n",
       " '[0.0, 0.0]',\n",
       " '[429.13, 675.71]',\n",
       " '[444.63, 674.38]',\n",
       " '[463.63, 675.88]',\n",
       " '[477.96, 676.54]',\n",
       " '[493.8, 677.88]',\n",
       " '[511.13, 677.21]',\n",
       " '[526.13, 679.71]',\n",
       " '[546.97, 678.21]',\n",
       " '[0.0, 0.0]',\n",
       " '[0.0, 0.0]',\n",
       " '[426.76, 597.34]',\n",
       " '[441.38, 598.84]',\n",
       " '[457.63, 597.71]',\n",
       " '[475.38, 599.09]',\n",
       " '[491.26, 602.84]',\n",
       " '[508.26, 601.21]',\n",
       " '[524.88, 599.71]',\n",
       " '[542.38, 599.59]',\n",
       " '[0.0, 0.0]',\n",
       " '[0.0, 0.0]']"
      ]
     },
     "execution_count": 57,
     "metadata": {},
     "output_type": "execute_result"
    }
   ],
   "source": [
    "GT_keypoints\n",
    "g=[]\n",
    "\n",
    "for i in GT_keypoints.tolist():\n",
    "    for j in i:\n",
    "        g.append(str([round(j[0],2),round(j[1],2)]))\n",
    "print(len(g))\n",
    "g"
   ]
  },
  {
   "cell_type": "code",
   "execution_count": 58,
   "id": "eb1c8a0b",
   "metadata": {
    "tags": []
   },
   "outputs": [
    {
     "data": {
      "text/plain": [
       "['[429.3, 675.54]',\n",
       " '[447.61, 676.02]',\n",
       " '[463.54, 675.79]',\n",
       " '[482.7, 676.39]',\n",
       " '[496.46, 675.5]',\n",
       " '[516.65, 675.75]',\n",
       " '[531.67, 674.97]',\n",
       " '[548.54, 674.85]',\n",
       " '[515.77, 676.41]',\n",
       " '[487.22, 642.35]',\n",
       " '[426.32, 602.19]',\n",
       " '[443.43, 601.24]',\n",
       " '[461.71, 601.99]',\n",
       " '[480.95, 602.05]',\n",
       " '[492.04, 601.11]',\n",
       " '[513.11, 602.07]',\n",
       " '[529.01, 601.44]',\n",
       " '[547.6, 601.62]',\n",
       " '[547.46, 674.75]',\n",
       " '[533.18, 673.25]',\n",
       " '[424.46, 552.82]',\n",
       " '[442.18, 553.15]',\n",
       " '[458.65, 552.55]',\n",
       " '[478.2, 552.5]',\n",
       " '[491.3, 551.17]',\n",
       " '[512.0, 551.43]',\n",
       " '[527.24, 550.9]',\n",
       " '[543.72, 550.46]',\n",
       " '[512.53, 553.59]',\n",
       " '[472.5, 510.74]',\n",
       " '[419.3, 479.32]',\n",
       " '[437.15, 478.05]',\n",
       " '[455.76, 478.32]',\n",
       " '[475.75, 478.25]',\n",
       " '[486.52, 477.4]',\n",
       " '[508.18, 477.18]',\n",
       " '[524.01, 476.88]',\n",
       " '[541.9, 476.77]',\n",
       " '[543.92, 550.44]',\n",
       " '[529.48, 549.44]']"
      ]
     },
     "execution_count": 58,
     "metadata": {},
     "output_type": "execute_result"
    }
   ],
   "source": [
    "prd=[]\n",
    "for i in predicted_keypoints.tolist():\n",
    "    for j in i:\n",
    "        prd.append(str([round(j[0],2),round(j[1],2)]))\n",
    "prd"
   ]
  },
  {
   "cell_type": "code",
   "execution_count": 60,
   "id": "2841bc3e",
   "metadata": {
    "tags": []
   },
   "outputs": [
    {
     "name": "stdout",
     "output_type": "stream",
     "text": [
      "40\n"
     ]
    },
    {
     "data": {
      "text/plain": [
       "[0.97,\n",
       " 0.99,\n",
       " 0.99,\n",
       " 0.96,\n",
       " 0.96,\n",
       " 0.95,\n",
       " 0.99,\n",
       " 0.98,\n",
       " 0.0,\n",
       " 0.0,\n",
       " 0.98,\n",
       " 0.99,\n",
       " 0.97,\n",
       " 0.9,\n",
       " 1.0,\n",
       " 0.95,\n",
       " 0.98,\n",
       " 0.92,\n",
       " 0.0,\n",
       " 0.0,\n",
       " 1.0,\n",
       " 0.96,\n",
       " 1.0,\n",
       " 0.93,\n",
       " 0.96,\n",
       " 0.9,\n",
       " 0.84,\n",
       " 0.95,\n",
       " 0.0,\n",
       " 0.0,\n",
       " 0.92,\n",
       " 0.97,\n",
       " 0.89,\n",
       " 0.87,\n",
       " 0.99,\n",
       " 0.92,\n",
       " 0.93,\n",
       " 0.9,\n",
       " 0.0,\n",
       " 0.0]"
      ]
     },
     "execution_count": 60,
     "metadata": {},
     "output_type": "execute_result"
    }
   ],
   "source": [
    "o=[]\n",
    "for i in oks_array.tolist():\n",
    "    for j in i:\n",
    "        o.append(round(j,2))\n",
    "print(len(o))\n",
    "o"
   ]
  },
  {
   "cell_type": "code",
   "execution_count": 49,
   "id": "0b45d8b8",
   "metadata": {
    "tags": []
   },
   "outputs": [
    {
     "data": {
      "text/plain": [
       "[1,\n",
       " 1,\n",
       " 1,\n",
       " 1,\n",
       " 1,\n",
       " 1,\n",
       " 1,\n",
       " 1,\n",
       " 0,\n",
       " 0,\n",
       " 1,\n",
       " 1,\n",
       " 1,\n",
       " 0,\n",
       " 1,\n",
       " 1,\n",
       " 1,\n",
       " 1,\n",
       " 0,\n",
       " 0,\n",
       " 1,\n",
       " 1,\n",
       " 1,\n",
       " 1,\n",
       " 1,\n",
       " 0,\n",
       " 0,\n",
       " 1,\n",
       " 0,\n",
       " 0,\n",
       " 1,\n",
       " 1,\n",
       " 0,\n",
       " 0,\n",
       " 1,\n",
       " 1,\n",
       " 1,\n",
       " 0,\n",
       " 0,\n",
       " 0]"
      ]
     },
     "execution_count": 49,
     "metadata": {},
     "output_type": "execute_result"
    }
   ],
   "source": [
    "tp_flat=[]\n",
    "for i in tp:\n",
    "    tp_flat.append(i[0])\n",
    "    \n",
    "tp_flat  "
   ]
  },
  {
   "cell_type": "code",
   "execution_count": 64,
   "id": "32242dd2",
   "metadata": {
    "tags": []
   },
   "outputs": [],
   "source": [
    "import pandas as pd\n",
    "Analyse_df = pd.DataFrame(\n",
    "    {'GT_Keypoints': g,\n",
    "     'Predicted_Keypoints': prd,\n",
    "     'OKS': o,\n",
    "     'True_positives (OKS Thresh:- 0.9)': tp_flat,\n",
    "     \n",
    "    })"
   ]
  },
  {
   "cell_type": "code",
   "execution_count": 65,
   "id": "32f42ea5",
   "metadata": {
    "tags": []
   },
   "outputs": [
    {
     "name": "stdout",
     "output_type": "stream",
     "text": [
      "GroudTruth, Prdicted Keypoints, OKS distance between them, Truepositives when OKS treshold =0.9 \n"
     ]
    },
    {
     "data": {
      "text/html": [
       "<div>\n",
       "<style scoped>\n",
       "    .dataframe tbody tr th:only-of-type {\n",
       "        vertical-align: middle;\n",
       "    }\n",
       "\n",
       "    .dataframe tbody tr th {\n",
       "        vertical-align: top;\n",
       "    }\n",
       "\n",
       "    .dataframe thead th {\n",
       "        text-align: right;\n",
       "    }\n",
       "</style>\n",
       "<table border=\"1\" class=\"dataframe\">\n",
       "  <thead>\n",
       "    <tr style=\"text-align: right;\">\n",
       "      <th></th>\n",
       "      <th>GT_Keypoints</th>\n",
       "      <th>Predicted_Keypoints</th>\n",
       "      <th>OKS</th>\n",
       "      <th>True_positives (OKS Thresh:- 0.9)</th>\n",
       "    </tr>\n",
       "  </thead>\n",
       "  <tbody>\n",
       "    <tr>\n",
       "      <th>0</th>\n",
       "      <td>[426.76, 551.29]</td>\n",
       "      <td>[429.3, 675.54]</td>\n",
       "      <td>0.97</td>\n",
       "      <td>1</td>\n",
       "    </tr>\n",
       "    <tr>\n",
       "      <th>1</th>\n",
       "      <td>[443.88, 552.04]</td>\n",
       "      <td>[447.61, 676.02]</td>\n",
       "      <td>0.99</td>\n",
       "      <td>1</td>\n",
       "    </tr>\n",
       "    <tr>\n",
       "      <th>2</th>\n",
       "      <td>[460.01, 553.42]</td>\n",
       "      <td>[463.54, 675.79]</td>\n",
       "      <td>0.99</td>\n",
       "      <td>1</td>\n",
       "    </tr>\n",
       "    <tr>\n",
       "      <th>3</th>\n",
       "      <td>[475.26, 550.79]</td>\n",
       "      <td>[482.7, 676.39]</td>\n",
       "      <td>0.96</td>\n",
       "      <td>1</td>\n",
       "    </tr>\n",
       "    <tr>\n",
       "      <th>4</th>\n",
       "      <td>[493.51, 553.54]</td>\n",
       "      <td>[496.46, 675.5]</td>\n",
       "      <td>0.96</td>\n",
       "      <td>1</td>\n",
       "    </tr>\n",
       "    <tr>\n",
       "      <th>5</th>\n",
       "      <td>[508.13, 551.79]</td>\n",
       "      <td>[516.65, 675.75]</td>\n",
       "      <td>0.95</td>\n",
       "      <td>1</td>\n",
       "    </tr>\n",
       "    <tr>\n",
       "      <th>6</th>\n",
       "      <td>[526.51, 549.67]</td>\n",
       "      <td>[531.67, 674.97]</td>\n",
       "      <td>0.99</td>\n",
       "      <td>1</td>\n",
       "    </tr>\n",
       "    <tr>\n",
       "      <th>7</th>\n",
       "      <td>[542.63, 552.79]</td>\n",
       "      <td>[548.54, 674.85]</td>\n",
       "      <td>0.98</td>\n",
       "      <td>1</td>\n",
       "    </tr>\n",
       "    <tr>\n",
       "      <th>8</th>\n",
       "      <td>[0.0, 0.0]</td>\n",
       "      <td>[515.77, 676.41]</td>\n",
       "      <td>0.00</td>\n",
       "      <td>0</td>\n",
       "    </tr>\n",
       "    <tr>\n",
       "      <th>9</th>\n",
       "      <td>[0.0, 0.0]</td>\n",
       "      <td>[487.22, 642.35]</td>\n",
       "      <td>0.00</td>\n",
       "      <td>0</td>\n",
       "    </tr>\n",
       "    <tr>\n",
       "      <th>10</th>\n",
       "      <td>[416.88, 480.5]</td>\n",
       "      <td>[426.32, 602.19]</td>\n",
       "      <td>0.98</td>\n",
       "      <td>1</td>\n",
       "    </tr>\n",
       "    <tr>\n",
       "      <th>11</th>\n",
       "      <td>[435.13, 478.25]</td>\n",
       "      <td>[443.43, 601.24]</td>\n",
       "      <td>0.99</td>\n",
       "      <td>1</td>\n",
       "    </tr>\n",
       "    <tr>\n",
       "      <th>12</th>\n",
       "      <td>[453.01, 479.75]</td>\n",
       "      <td>[461.71, 601.99]</td>\n",
       "      <td>0.97</td>\n",
       "      <td>1</td>\n",
       "    </tr>\n",
       "    <tr>\n",
       "      <th>13</th>\n",
       "      <td>[470.13, 479.0]</td>\n",
       "      <td>[480.95, 602.05]</td>\n",
       "      <td>0.90</td>\n",
       "      <td>0</td>\n",
       "    </tr>\n",
       "    <tr>\n",
       "      <th>14</th>\n",
       "      <td>[486.63, 477.88]</td>\n",
       "      <td>[492.04, 601.11]</td>\n",
       "      <td>1.00</td>\n",
       "      <td>1</td>\n",
       "    </tr>\n",
       "    <tr>\n",
       "      <th>15</th>\n",
       "      <td>[504.51, 477.38]</td>\n",
       "      <td>[513.11, 602.07]</td>\n",
       "      <td>0.95</td>\n",
       "      <td>1</td>\n",
       "    </tr>\n",
       "    <tr>\n",
       "      <th>16</th>\n",
       "      <td>[522.13, 478.5]</td>\n",
       "      <td>[529.01, 601.44]</td>\n",
       "      <td>0.98</td>\n",
       "      <td>1</td>\n",
       "    </tr>\n",
       "    <tr>\n",
       "      <th>17</th>\n",
       "      <td>[538.51, 480.13]</td>\n",
       "      <td>[547.6, 601.62]</td>\n",
       "      <td>0.92</td>\n",
       "      <td>1</td>\n",
       "    </tr>\n",
       "    <tr>\n",
       "      <th>18</th>\n",
       "      <td>[0.0, 0.0]</td>\n",
       "      <td>[547.46, 674.75]</td>\n",
       "      <td>0.00</td>\n",
       "      <td>0</td>\n",
       "    </tr>\n",
       "    <tr>\n",
       "      <th>19</th>\n",
       "      <td>[0.0, 0.0]</td>\n",
       "      <td>[533.18, 673.25]</td>\n",
       "      <td>0.00</td>\n",
       "      <td>0</td>\n",
       "    </tr>\n",
       "    <tr>\n",
       "      <th>20</th>\n",
       "      <td>[429.13, 675.71]</td>\n",
       "      <td>[424.46, 552.82]</td>\n",
       "      <td>1.00</td>\n",
       "      <td>1</td>\n",
       "    </tr>\n",
       "    <tr>\n",
       "      <th>21</th>\n",
       "      <td>[444.63, 674.38]</td>\n",
       "      <td>[442.18, 553.15]</td>\n",
       "      <td>0.96</td>\n",
       "      <td>1</td>\n",
       "    </tr>\n",
       "    <tr>\n",
       "      <th>22</th>\n",
       "      <td>[463.63, 675.88]</td>\n",
       "      <td>[458.65, 552.55]</td>\n",
       "      <td>1.00</td>\n",
       "      <td>1</td>\n",
       "    </tr>\n",
       "    <tr>\n",
       "      <th>23</th>\n",
       "      <td>[477.96, 676.54]</td>\n",
       "      <td>[478.2, 552.5]</td>\n",
       "      <td>0.93</td>\n",
       "      <td>1</td>\n",
       "    </tr>\n",
       "    <tr>\n",
       "      <th>24</th>\n",
       "      <td>[493.8, 677.88]</td>\n",
       "      <td>[491.3, 551.17]</td>\n",
       "      <td>0.96</td>\n",
       "      <td>1</td>\n",
       "    </tr>\n",
       "    <tr>\n",
       "      <th>25</th>\n",
       "      <td>[511.13, 677.21]</td>\n",
       "      <td>[512.0, 551.43]</td>\n",
       "      <td>0.90</td>\n",
       "      <td>0</td>\n",
       "    </tr>\n",
       "    <tr>\n",
       "      <th>26</th>\n",
       "      <td>[526.13, 679.71]</td>\n",
       "      <td>[527.24, 550.9]</td>\n",
       "      <td>0.84</td>\n",
       "      <td>0</td>\n",
       "    </tr>\n",
       "    <tr>\n",
       "      <th>27</th>\n",
       "      <td>[546.97, 678.21]</td>\n",
       "      <td>[543.72, 550.46]</td>\n",
       "      <td>0.95</td>\n",
       "      <td>1</td>\n",
       "    </tr>\n",
       "    <tr>\n",
       "      <th>28</th>\n",
       "      <td>[0.0, 0.0]</td>\n",
       "      <td>[512.53, 553.59]</td>\n",
       "      <td>0.00</td>\n",
       "      <td>0</td>\n",
       "    </tr>\n",
       "    <tr>\n",
       "      <th>29</th>\n",
       "      <td>[0.0, 0.0]</td>\n",
       "      <td>[472.5, 510.74]</td>\n",
       "      <td>0.00</td>\n",
       "      <td>0</td>\n",
       "    </tr>\n",
       "    <tr>\n",
       "      <th>30</th>\n",
       "      <td>[426.76, 597.34]</td>\n",
       "      <td>[419.3, 479.32]</td>\n",
       "      <td>0.92</td>\n",
       "      <td>1</td>\n",
       "    </tr>\n",
       "    <tr>\n",
       "      <th>31</th>\n",
       "      <td>[441.38, 598.84]</td>\n",
       "      <td>[437.15, 478.05]</td>\n",
       "      <td>0.97</td>\n",
       "      <td>1</td>\n",
       "    </tr>\n",
       "    <tr>\n",
       "      <th>32</th>\n",
       "      <td>[457.63, 597.71]</td>\n",
       "      <td>[455.76, 478.32]</td>\n",
       "      <td>0.89</td>\n",
       "      <td>0</td>\n",
       "    </tr>\n",
       "    <tr>\n",
       "      <th>33</th>\n",
       "      <td>[475.38, 599.09]</td>\n",
       "      <td>[475.75, 478.25]</td>\n",
       "      <td>0.87</td>\n",
       "      <td>0</td>\n",
       "    </tr>\n",
       "    <tr>\n",
       "      <th>34</th>\n",
       "      <td>[491.26, 602.84]</td>\n",
       "      <td>[486.52, 477.4]</td>\n",
       "      <td>0.99</td>\n",
       "      <td>1</td>\n",
       "    </tr>\n",
       "    <tr>\n",
       "      <th>35</th>\n",
       "      <td>[508.26, 601.21]</td>\n",
       "      <td>[508.18, 477.18]</td>\n",
       "      <td>0.92</td>\n",
       "      <td>1</td>\n",
       "    </tr>\n",
       "    <tr>\n",
       "      <th>36</th>\n",
       "      <td>[524.88, 599.71]</td>\n",
       "      <td>[524.01, 476.88]</td>\n",
       "      <td>0.93</td>\n",
       "      <td>1</td>\n",
       "    </tr>\n",
       "    <tr>\n",
       "      <th>37</th>\n",
       "      <td>[542.38, 599.59]</td>\n",
       "      <td>[541.9, 476.77]</td>\n",
       "      <td>0.90</td>\n",
       "      <td>0</td>\n",
       "    </tr>\n",
       "    <tr>\n",
       "      <th>38</th>\n",
       "      <td>[0.0, 0.0]</td>\n",
       "      <td>[543.92, 550.44]</td>\n",
       "      <td>0.00</td>\n",
       "      <td>0</td>\n",
       "    </tr>\n",
       "    <tr>\n",
       "      <th>39</th>\n",
       "      <td>[0.0, 0.0]</td>\n",
       "      <td>[529.48, 549.44]</td>\n",
       "      <td>0.00</td>\n",
       "      <td>0</td>\n",
       "    </tr>\n",
       "  </tbody>\n",
       "</table>\n",
       "</div>"
      ],
      "text/plain": [
       "        GT_Keypoints Predicted_Keypoints   OKS  \\\n",
       "0   [426.76, 551.29]     [429.3, 675.54]  0.97   \n",
       "1   [443.88, 552.04]    [447.61, 676.02]  0.99   \n",
       "2   [460.01, 553.42]    [463.54, 675.79]  0.99   \n",
       "3   [475.26, 550.79]     [482.7, 676.39]  0.96   \n",
       "4   [493.51, 553.54]     [496.46, 675.5]  0.96   \n",
       "5   [508.13, 551.79]    [516.65, 675.75]  0.95   \n",
       "6   [526.51, 549.67]    [531.67, 674.97]  0.99   \n",
       "7   [542.63, 552.79]    [548.54, 674.85]  0.98   \n",
       "8         [0.0, 0.0]    [515.77, 676.41]  0.00   \n",
       "9         [0.0, 0.0]    [487.22, 642.35]  0.00   \n",
       "10   [416.88, 480.5]    [426.32, 602.19]  0.98   \n",
       "11  [435.13, 478.25]    [443.43, 601.24]  0.99   \n",
       "12  [453.01, 479.75]    [461.71, 601.99]  0.97   \n",
       "13   [470.13, 479.0]    [480.95, 602.05]  0.90   \n",
       "14  [486.63, 477.88]    [492.04, 601.11]  1.00   \n",
       "15  [504.51, 477.38]    [513.11, 602.07]  0.95   \n",
       "16   [522.13, 478.5]    [529.01, 601.44]  0.98   \n",
       "17  [538.51, 480.13]     [547.6, 601.62]  0.92   \n",
       "18        [0.0, 0.0]    [547.46, 674.75]  0.00   \n",
       "19        [0.0, 0.0]    [533.18, 673.25]  0.00   \n",
       "20  [429.13, 675.71]    [424.46, 552.82]  1.00   \n",
       "21  [444.63, 674.38]    [442.18, 553.15]  0.96   \n",
       "22  [463.63, 675.88]    [458.65, 552.55]  1.00   \n",
       "23  [477.96, 676.54]      [478.2, 552.5]  0.93   \n",
       "24   [493.8, 677.88]     [491.3, 551.17]  0.96   \n",
       "25  [511.13, 677.21]     [512.0, 551.43]  0.90   \n",
       "26  [526.13, 679.71]     [527.24, 550.9]  0.84   \n",
       "27  [546.97, 678.21]    [543.72, 550.46]  0.95   \n",
       "28        [0.0, 0.0]    [512.53, 553.59]  0.00   \n",
       "29        [0.0, 0.0]     [472.5, 510.74]  0.00   \n",
       "30  [426.76, 597.34]     [419.3, 479.32]  0.92   \n",
       "31  [441.38, 598.84]    [437.15, 478.05]  0.97   \n",
       "32  [457.63, 597.71]    [455.76, 478.32]  0.89   \n",
       "33  [475.38, 599.09]    [475.75, 478.25]  0.87   \n",
       "34  [491.26, 602.84]     [486.52, 477.4]  0.99   \n",
       "35  [508.26, 601.21]    [508.18, 477.18]  0.92   \n",
       "36  [524.88, 599.71]    [524.01, 476.88]  0.93   \n",
       "37  [542.38, 599.59]     [541.9, 476.77]  0.90   \n",
       "38        [0.0, 0.0]    [543.92, 550.44]  0.00   \n",
       "39        [0.0, 0.0]    [529.48, 549.44]  0.00   \n",
       "\n",
       "    True_positives (OKS Thresh:- 0.9)  \n",
       "0                                   1  \n",
       "1                                   1  \n",
       "2                                   1  \n",
       "3                                   1  \n",
       "4                                   1  \n",
       "5                                   1  \n",
       "6                                   1  \n",
       "7                                   1  \n",
       "8                                   0  \n",
       "9                                   0  \n",
       "10                                  1  \n",
       "11                                  1  \n",
       "12                                  1  \n",
       "13                                  0  \n",
       "14                                  1  \n",
       "15                                  1  \n",
       "16                                  1  \n",
       "17                                  1  \n",
       "18                                  0  \n",
       "19                                  0  \n",
       "20                                  1  \n",
       "21                                  1  \n",
       "22                                  1  \n",
       "23                                  1  \n",
       "24                                  1  \n",
       "25                                  0  \n",
       "26                                  0  \n",
       "27                                  1  \n",
       "28                                  0  \n",
       "29                                  0  \n",
       "30                                  1  \n",
       "31                                  1  \n",
       "32                                  0  \n",
       "33                                  0  \n",
       "34                                  1  \n",
       "35                                  1  \n",
       "36                                  1  \n",
       "37                                  0  \n",
       "38                                  0  \n",
       "39                                  0  "
      ]
     },
     "execution_count": 65,
     "metadata": {},
     "output_type": "execute_result"
    }
   ],
   "source": [
    "print(\"GroudTruth, Prdicted Keypoints, OKS distance between them, Truepositives when OKS treshold =0.9 \")\n",
    "Analyse_df"
   ]
  },
  {
   "cell_type": "code",
   "execution_count": 54,
   "id": "ee7e9f62",
   "metadata": {
    "tags": []
   },
   "outputs": [
    {
     "data": {
      "text/plain": [
       "20"
      ]
     },
     "execution_count": 54,
     "metadata": {},
     "output_type": "execute_result"
    }
   ],
   "source": [
    "i = np.argsort(-conf)\n",
    "tp, conf, pred_cls = tp[i], conf[i], pred_cls[i]\n",
    "\n",
    "    # Find unique classes\n",
    "unique_classes, nt = np.unique(target_cls, return_counts=True)\n",
    "nc = unique_classes.shape[0]\n",
    "nc"
   ]
  },
  {
   "cell_type": "code",
   "execution_count": null,
   "id": "9b13e27a",
   "metadata": {},
   "outputs": [],
   "source": []
  }
 ],
 "metadata": {
  "kernelspec": {
   "display_name": "Python 3 (ipykernel)",
   "language": "python",
   "name": "python3"
  },
  "language_info": {
   "codemirror_mode": {
    "name": "ipython",
    "version": 3
   },
   "file_extension": ".py",
   "mimetype": "text/x-python",
   "name": "python",
   "nbconvert_exporter": "python",
   "pygments_lexer": "ipython3",
   "version": "3.12.4"
  }
 },
 "nbformat": 4,
 "nbformat_minor": 5
}
